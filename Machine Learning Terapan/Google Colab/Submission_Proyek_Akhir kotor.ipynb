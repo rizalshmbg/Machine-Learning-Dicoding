{
  "nbformat": 4,
  "nbformat_minor": 0,
  "metadata": {
    "colab": {
      "name": "Submission Proyek Akhir.ipynb",
      "provenance": [],
      "collapsed_sections": [],
      "toc_visible": true
    },
    "kernelspec": {
      "name": "python3",
      "display_name": "Python 3"
    },
    "language_info": {
      "name": "python"
    }
  },
  "cells": [
    {
      "cell_type": "markdown",
      "metadata": {
        "id": "D2dJ1sespKou"
      },
      "source": [
        "# Project Overview\n",
        "\n",
        "Sistem rekomendasi adalah garis pertahanan intuitif terhadap pilihan konsumen yang berlebihan. Mengingat pertumbuhan eksplosif informasi yang tersedia di website belanja online, pengguna sering disambut dengan banyaknya produk yang tawarkan. Dengan demikian, penyesuaian layanannya adalah strategi penting untuk memfasilitasi pengguna untuk membeli produk yang lebih baik.\n",
        "\n",
        "Secara umum, daftar rekomendasi dihasilkan berdasarkan preferensi pengguna, fitur item, interaksi masa lalu item pengguna dan beberapa informasi lainnya. Sistem ini berperan penting dan tak terpisahkan dalam akses informasi untuk meningkatkan bisnis dan memfasilitasi proses pengambilan keputusan yang melekat di berbagai website belanja online.\n",
        "\n",
        "Referensi :\n",
        "* [Deep Learning based Recommender System: A Survey and New Perspectives](https://arxiv.org/pdf/1707.07435.pdf)\n",
        "* [IJIRST - International Journal for Innovative Research in Science and Technology : Book Recomendation System](https://d1wqtxts1xzle7.cloudfront.net/38839415/IJIRSTV1I11135-with-cover-page-v2.pdf?Expires=1635526606&Signature=OC6kVPB3TytQm7lxnHJoKlHBTx6zf0bgqNhm4jrecRVPCbigc1DYMWwDPoVadTLDWi7l0LqcRj4HReJLsBCyWDlU-ziC8zIQAWdHc8F2PqeXfuXpJcZvyiw0i2ie0R2jyX6lSlkarBEzREi~02wAgD2y10l1cLcDm~rKV1PAx1o~qtMCYe0M7bsfUSAT-n8GD7fxogvEvJhjnN26S1KaYeOTQyyLo5QOfxT6w9Q5tAYMGzdBF-l93PxPdLyUxVztDhUY9E9Tlq1zGc2xBXNWhofh0aRFFAl6xipRe1ntBMB3xZ6atQr8iL4VL8kySLxbYrKqStjmxx4wdbIWDX22Tw__&Key-Pair-Id=APKAJLOHF5GGSLRBV4ZA)"
      ]
    },
    {
      "cell_type": "markdown",
      "metadata": {
        "id": "AQr_Ggyuwj2s"
      },
      "source": [
        "\n",
        "\n",
        "---\n",
        "\n"
      ]
    },
    {
      "cell_type": "markdown",
      "metadata": {
        "id": "CEufHEkCwkoC"
      },
      "source": [
        "# Business Understanding\n",
        "\n",
        "Sistem rekomendasi banyak digunakan untuk merekomendasikan produk kepada pengguna. Contohnya situs web penjualan buku online yang saat ini saling bersaing dengan berbagai cara. Sistem rekomendasi adalah salah satu cara yang terbaik untuk meningkatkan keuntungan penjualan dan memperluas jaringan pembeli.\n",
        "\n",
        "Sistem rekomendasi ini dikembangkan menggunakan algoritma yang dapat menghasilkan berbagai buku yang diminati oleh pembeli, dengan membuat pilihan terbaik berdasarkan preferensi atau data buku yang telah dinilai oleh pengguna sebelumnya."
      ]
    },
    {
      "cell_type": "markdown",
      "metadata": {
        "id": "hhDPulAlep63"
      },
      "source": [
        "## Problem Statements\n",
        "\n",
        "* Berdasarkan pada data pengguna, bagaimana  sistem rekomendasi menghasilkan sejumlah buku berdasarkan preferensi pengguna ? (Content Based)\n",
        "* Berdasarkan pada data buku dan rating yang ada, bagaimana  sistem ini dapat merekomendasikan buku-buku yang mungkin disukai oleh pengguna lain? (Collaborative)"
      ]
    },
    {
      "cell_type": "markdown",
      "metadata": {
        "id": "HPj0EA_LesHM"
      },
      "source": [
        "## Goals\n",
        "\n",
        "* Untuk merekomendasikan buku kepada pengguna yang dipersonalisasi sesuai dengan minatnya.\n",
        "\n",
        "* Untuk menghasilkan sejumlah buku yang sesuai dengan preferensi pengguna berdasarkan rating yang telah diberikan sebelumnya.\n"
      ]
    },
    {
      "cell_type": "markdown",
      "metadata": {
        "id": "yBv9A-y9eu1c"
      },
      "source": [
        "## Solution Approach\n",
        "\n",
        "Untuk menyelesaikan masalah ini saya menggunakan dua algoritma sistem rekomendasi sebagai solusi permasalahan yaitu **Content Based Filtering** dan **Collaborative Filtering**.\n",
        "\n",
        "1. Content Based Filtering \\\n",
        "Teknik Content Based Filtering akan menyaring buku berdasarkan isi buku yang diminati pembeli. Lalu, setiap pengguna dikaitkan dengan pengklasifikasi sebagai profil. Pengklasifikasi mengambil item buku sebagai inputnya dan kemudian menyimpulkan apakah item tersebut disukai oleh pengguna terkait berdasarkan kontennya. \\\n",
        "* Kelebihan :\n",
        " * Model tidak memerlukan data apa pun tentang pengguna lain, membuatnya lebih mudah untuk menskalakan ke sejumlah besar pengguna.\n",
        " * Model dapat menangkap minat khusus pengguna, dan dapat merekomendasikan item khusus yang sangat sedikit yang diminati oleh pengguna lain.\n",
        "\n",
        "* Kekurangan :\n",
        " * Karena representasi fitur item direkayasa sampai batas tertentu, teknik ini membutuhkan banyak pengetahuan domain.\n",
        " * Model hanya dapat membuat rekomendasi berdasarkan minat pengguna yang ada. Jadi, model memiliki kemampuan terbatas untuk memperluas minat pengguna yang ada.\n",
        "\n",
        "   \n",
        "\n",
        "2. Collaborative Filtering \\\n",
        "Pada tahap ini, sistem akan merekomendasikan sejumlah buku berdasarkan rating yang telah diberikan sebelumnya. Dan akan melihat ke set item yang telah dinilai oleh pengguna lalu menghitung seberapa mirip dengan item target. Dari data rating pengguna, akan mengidentifikasi buku apa saja yang mirip dan belum pernah dibeli oleh pengguna untuk direkomendasikan. \\\n",
        "* Kelebihan :\n",
        " * Hanya berfokus pada konten dan tidak memberikan kemampuan beradaptasi apa pun pada preferensi dan aspek pengguna.\n",
        " *  Sistem ini hanya membutuhkan matriks umpan balik untuk melatih model faktorisasi matriks. Secara khusus, sistem tidak memerlukan fitur kontekstual.\n",
        "\n",
        "* Kekurangan :\n",
        " * Sistem rekomendasi ini tidak dapat membuat penyematan dan mengkueri model untuk item yang merupakan barang baru.\n",
        " * Sulit untuk menyertakan fitur sampingan untuk kueri/item."
      ]
    },
    {
      "cell_type": "markdown",
      "metadata": {
        "id": "Agu0in1TVbL5"
      },
      "source": [
        "## Mengimpor Library yang Akan Digunakan"
      ]
    },
    {
      "cell_type": "code",
      "metadata": {
        "id": "-ldNpjdAVhP6"
      },
      "source": [
        "# pengolahan data\n",
        "import os\n",
        "import pandas as pd\n",
        "import numpy as np\n",
        "\n",
        "# visualisasi data\n",
        "import matplotlib.pyplot as plt\n",
        "%matplotlib inline\n",
        "import seaborn as sns\n",
        "sns.set()\n",
        "\n",
        "# \n",
        "\n",
        "# "
      ],
      "execution_count": 1,
      "outputs": []
    },
    {
      "cell_type": "markdown",
      "metadata": {
        "id": "tvhk0bcvVXSu"
      },
      "source": [
        "\n",
        "\n",
        "---\n",
        "\n"
      ]
    },
    {
      "cell_type": "markdown",
      "metadata": {
        "id": "xAYvwMu40frr"
      },
      "source": [
        "# Data Understanding\n",
        "\n",
        "Dataset yang digunakan adalah [Book Recommendation Dataset](https://www.kaggle.com/arashnic/book-recommendation-dataset)"
      ]
    },
    {
      "cell_type": "markdown",
      "metadata": {
        "id": "0ePO2xAj4_84"
      },
      "source": [
        "## Menyiapkan Kredensial Akun Kaggle"
      ]
    },
    {
      "cell_type": "code",
      "metadata": {
        "id": "x1p37F81aiZs"
      },
      "source": [
        "os.environ['KAGGLE_USERNAME'] = 'rizalsihombing'\n",
        "os.environ['KAGGLE_KEY'] = '4d09bb88e02a716fc7ea70c27ba33be1'"
      ],
      "execution_count": 2,
      "outputs": []
    },
    {
      "cell_type": "markdown",
      "metadata": {
        "id": "L8aVfn2g5MZx"
      },
      "source": [
        "## Mengunduh Dataset"
      ]
    },
    {
      "cell_type": "code",
      "metadata": {
        "colab": {
          "base_uri": "https://localhost:8080/"
        },
        "id": "7DFJa_tLaII9",
        "outputId": "95871eaa-ca2a-4b20-e54d-c985d6643301"
      },
      "source": [
        "!kaggle datasets download -d arashnic/book-recommendation-dataset"
      ],
      "execution_count": 3,
      "outputs": [
        {
          "output_type": "stream",
          "name": "stdout",
          "text": [
            "Downloading book-recommendation-dataset.zip to /content\n",
            " 88% 21.0M/23.8M [00:00<00:00, 55.5MB/s]\n",
            "100% 23.8M/23.8M [00:00<00:00, 68.3MB/s]\n"
          ]
        }
      ]
    },
    {
      "cell_type": "markdown",
      "metadata": {
        "id": "Ow9lAEFO_Nkj"
      },
      "source": [
        "## Mengekstrak Dataset"
      ]
    },
    {
      "cell_type": "code",
      "metadata": {
        "colab": {
          "base_uri": "https://localhost:8080/"
        },
        "id": "f7fxFmcNeWYC",
        "outputId": "120e0ec0-b827-49dd-837b-748b51534838"
      },
      "source": [
        "!unzip book-recommendation-dataset.zip"
      ],
      "execution_count": 4,
      "outputs": [
        {
          "output_type": "stream",
          "name": "stdout",
          "text": [
            "Archive:  book-recommendation-dataset.zip\n",
            "  inflating: Books.csv               \n",
            "  inflating: Ratings.csv             \n",
            "  inflating: Users.csv               \n"
          ]
        }
      ]
    },
    {
      "cell_type": "code",
      "metadata": {
        "colab": {
          "base_uri": "https://localhost:8080/"
        },
        "id": "gm3sZ-LKebMx",
        "outputId": "efd289b5-3a25-4421-e451-4efa0788804e"
      },
      "source": [
        "books = pd.read_csv('/content/Books.csv')\n",
        "books.info()"
      ],
      "execution_count": 5,
      "outputs": [
        {
          "output_type": "stream",
          "name": "stderr",
          "text": [
            "/usr/local/lib/python3.7/dist-packages/IPython/core/interactiveshell.py:2718: DtypeWarning: Columns (3) have mixed types.Specify dtype option on import or set low_memory=False.\n",
            "  interactivity=interactivity, compiler=compiler, result=result)\n"
          ]
        },
        {
          "output_type": "stream",
          "name": "stdout",
          "text": [
            "<class 'pandas.core.frame.DataFrame'>\n",
            "RangeIndex: 271360 entries, 0 to 271359\n",
            "Data columns (total 8 columns):\n",
            " #   Column               Non-Null Count   Dtype \n",
            "---  ------               --------------   ----- \n",
            " 0   ISBN                 271360 non-null  object\n",
            " 1   Book-Title           271360 non-null  object\n",
            " 2   Book-Author          271359 non-null  object\n",
            " 3   Year-Of-Publication  271360 non-null  object\n",
            " 4   Publisher            271358 non-null  object\n",
            " 5   Image-URL-S          271360 non-null  object\n",
            " 6   Image-URL-M          271360 non-null  object\n",
            " 7   Image-URL-L          271357 non-null  object\n",
            "dtypes: object(8)\n",
            "memory usage: 16.6+ MB\n"
          ]
        }
      ]
    },
    {
      "cell_type": "markdown",
      "metadata": {
        "id": "7ZRzx6tRWXgG"
      },
      "source": [
        "Dapat dilihat dari Books.csv berjumlah **271360 baris** dan terdapat **7 variabel**, diantaranya adalah :\n",
        "\n",
        "* ISBN : merupakan kode unik untuk pengidentifikasian buku.\n",
        "* Book-Title : merupakan judul buku.\n",
        "* Book-Author : merupakan pengarang atau penulis buku.\n",
        "* Year-Of-Publication : merupakan tahun penerbitan buku.\n",
        "* Publisher : merupakan penerbit buku.\n",
        "* Image-URL-S : merupakan alamat suatu sumber gambar buku yang berukuran kecil, yang mengarah ke website Amazon.\n",
        "* Image-URL-M : merupakan alamat suatu sumber gambar buku yang berukuran sedang, yang mengarah ke website Amazon.\n",
        "* Image-URL-L : merupakan alamat suatu sumber gambar buku yang berukuran besar, yang mengarah ke website Amazon.\n",
        "\n",
        "Namun pada tahap modeling nanti, variabel **Image-URL-S**, **Image-URL-M**, dan **Image-URL-L** tidak butuhkan dan akan dibuang."
      ]
    },
    {
      "cell_type": "code",
      "metadata": {
        "colab": {
          "base_uri": "https://localhost:8080/"
        },
        "id": "iES3Gi4GI0J3",
        "outputId": "a4e96ad8-890a-4d21-a7ad-c2d654bb242b"
      },
      "source": [
        "ratings = pd.read_csv('/content/Ratings.csv')\n",
        "ratings.info()"
      ],
      "execution_count": 6,
      "outputs": [
        {
          "output_type": "stream",
          "name": "stdout",
          "text": [
            "<class 'pandas.core.frame.DataFrame'>\n",
            "RangeIndex: 1149780 entries, 0 to 1149779\n",
            "Data columns (total 3 columns):\n",
            " #   Column       Non-Null Count    Dtype \n",
            "---  ------       --------------    ----- \n",
            " 0   User-ID      1149780 non-null  int64 \n",
            " 1   ISBN         1149780 non-null  object\n",
            " 2   Book-Rating  1149780 non-null  int64 \n",
            "dtypes: int64(2), object(1)\n",
            "memory usage: 26.3+ MB\n"
          ]
        }
      ]
    },
    {
      "cell_type": "markdown",
      "metadata": {
        "id": "0HUOV53ZY9DQ"
      },
      "source": [
        "Dapat dilihat dari Ratings.csv berjumlah **1149780 baris** dan terdapat **3 variabel**, diantaranya adalah :\n",
        "\n",
        "* User-ID : merupakan ID atau nomor unik pengguna.\n",
        "* ISBN : merupakan kode unik untuk pengidentifikasian buku.\n",
        "* Book-Rating : merupakan nilai peringkat buku yang diberikan oleh pengguna, dinyatakan dalam skala 1-10 (nilai yang lebih tinggi menunjukkan apresiasi yang lebih tinggi)."
      ]
    },
    {
      "cell_type": "code",
      "metadata": {
        "colab": {
          "base_uri": "https://localhost:8080/"
        },
        "id": "powdtt-HI5a_",
        "outputId": "156254ef-1891-40e7-9e67-1dd3b98b85a6"
      },
      "source": [
        "users = pd.read_csv('/content/Users.csv')\n",
        "users.info()"
      ],
      "execution_count": 7,
      "outputs": [
        {
          "output_type": "stream",
          "name": "stdout",
          "text": [
            "<class 'pandas.core.frame.DataFrame'>\n",
            "RangeIndex: 278858 entries, 0 to 278857\n",
            "Data columns (total 3 columns):\n",
            " #   Column    Non-Null Count   Dtype  \n",
            "---  ------    --------------   -----  \n",
            " 0   User-ID   278858 non-null  int64  \n",
            " 1   Location  278858 non-null  object \n",
            " 2   Age       168096 non-null  float64\n",
            "dtypes: float64(1), int64(1), object(1)\n",
            "memory usage: 6.4+ MB\n"
          ]
        }
      ]
    },
    {
      "cell_type": "markdown",
      "metadata": {
        "id": "i0JoZHfjZ1Ns"
      },
      "source": [
        "Dapat dilihat dari Users.csv berjumlah **278858 baris** dan terdapat **3 variabel**, diantaranya adalah :\n",
        "\n",
        "* User-ID : merupakan ID atau nomor unik pengguna.\n",
        "* Location : merupakan informasi mengenai negara asal pengguna.\n",
        "* Age : merupakan usia pengguna."
      ]
    },
    {
      "cell_type": "markdown",
      "metadata": {
        "id": "mCxll1hslPHM"
      },
      "source": [
        "Setelah melihat dataframe ratings dan books telalu banyak, di sini saya hanya mengambil **10000** baris dari dataset books dan **5000** row untuk rating dataset"
      ]
    },
    {
      "cell_type": "code",
      "metadata": {
        "id": "5gqapHkwlPhk"
      },
      "source": [
        "books = books[:10000]\n",
        "ratings = ratings[:5000]"
      ],
      "execution_count": 8,
      "outputs": []
    },
    {
      "cell_type": "code",
      "metadata": {
        "colab": {
          "base_uri": "https://localhost:8080/"
        },
        "id": "_27XFmdml3Gt",
        "outputId": "53375314-7d88-4f23-f8eb-863b4df321ec"
      },
      "source": [
        "books.info()"
      ],
      "execution_count": 9,
      "outputs": [
        {
          "output_type": "stream",
          "name": "stdout",
          "text": [
            "<class 'pandas.core.frame.DataFrame'>\n",
            "RangeIndex: 10000 entries, 0 to 9999\n",
            "Data columns (total 8 columns):\n",
            " #   Column               Non-Null Count  Dtype \n",
            "---  ------               --------------  ----- \n",
            " 0   ISBN                 10000 non-null  object\n",
            " 1   Book-Title           10000 non-null  object\n",
            " 2   Book-Author          10000 non-null  object\n",
            " 3   Year-Of-Publication  10000 non-null  object\n",
            " 4   Publisher            10000 non-null  object\n",
            " 5   Image-URL-S          10000 non-null  object\n",
            " 6   Image-URL-M          10000 non-null  object\n",
            " 7   Image-URL-L          10000 non-null  object\n",
            "dtypes: object(8)\n",
            "memory usage: 625.1+ KB\n"
          ]
        }
      ]
    },
    {
      "cell_type": "markdown",
      "metadata": {
        "id": "1cB7OT4VmnkT"
      },
      "source": [
        "\n",
        "\n",
        "---\n",
        "\n"
      ]
    },
    {
      "cell_type": "markdown",
      "metadata": {
        "id": "n6It_oaNaYzL"
      },
      "source": [
        "# Data Preparation"
      ]
    },
    {
      "cell_type": "markdown",
      "metadata": {
        "id": "noXtnvMbbX-b"
      },
      "source": [
        "Memeriksa bagian variabel dataset dari **books**, **users**, dan **ratings**"
      ]
    },
    {
      "cell_type": "code",
      "metadata": {
        "id": "KkWjpJVeJCPg"
      },
      "source": [
        "books.columns = ['ISBN', 'BookTitle', 'BookAuthor', 'YearOfPublication',\n",
        "                 'Publisher', 'Image-URL-S', 'Image-URL-M', 'Image-URL-L']\n",
        "\n",
        "users.columns = ['UserID', 'Location', 'Age']\n",
        "\n",
        "ratings.columns = ['UserID', 'ISBN', 'BookRating']"
      ],
      "execution_count": 10,
      "outputs": []
    },
    {
      "cell_type": "markdown",
      "metadata": {
        "id": "hiBDzqSMdJ4t"
      },
      "source": [
        "## Books"
      ]
    },
    {
      "cell_type": "markdown",
      "metadata": {
        "id": "sMZk7Gh0b3Sr"
      },
      "source": [
        "Membuang 3 kolom terakhir yang berisi URL gambar karena tidak akan diperlukan. Yaitu :\n",
        "* Image-URL-S \n",
        "* Image-URL-M \n",
        "* Image-URL-L "
      ]
    },
    {
      "cell_type": "code",
      "metadata": {
        "id": "4WNe-4fJJy2G"
      },
      "source": [
        "books.drop(['Image-URL-S', 'Image-URL-M', 'Image-URL-L'], axis=1,inplace=True)"
      ],
      "execution_count": 11,
      "outputs": []
    },
    {
      "cell_type": "markdown",
      "metadata": {
        "id": "kW1r2kGddA0W"
      },
      "source": [
        "Mengecek kembali dataset buku"
      ]
    },
    {
      "cell_type": "code",
      "metadata": {
        "colab": {
          "base_uri": "https://localhost:8080/"
        },
        "id": "BXFY2lHbPCNQ",
        "outputId": "b0bcb7b0-dd6b-44a0-99b5-b3c635bab05f"
      },
      "source": [
        "books.dtypes"
      ],
      "execution_count": 12,
      "outputs": [
        {
          "output_type": "execute_result",
          "data": {
            "text/plain": [
              "ISBN                 object\n",
              "BookTitle            object\n",
              "BookAuthor           object\n",
              "YearOfPublication    object\n",
              "Publisher            object\n",
              "dtype: object"
            ]
          },
          "metadata": {},
          "execution_count": 12
        }
      ]
    },
    {
      "cell_type": "code",
      "metadata": {
        "colab": {
          "base_uri": "https://localhost:8080/",
          "height": 204
        },
        "id": "R0fU3xEYdAU0",
        "outputId": "8c8a96bc-673d-4de0-f3e7-e67fe7a5f17d"
      },
      "source": [
        "books.head()"
      ],
      "execution_count": 13,
      "outputs": [
        {
          "output_type": "execute_result",
          "data": {
            "text/html": [
              "<div>\n",
              "<style scoped>\n",
              "    .dataframe tbody tr th:only-of-type {\n",
              "        vertical-align: middle;\n",
              "    }\n",
              "\n",
              "    .dataframe tbody tr th {\n",
              "        vertical-align: top;\n",
              "    }\n",
              "\n",
              "    .dataframe thead th {\n",
              "        text-align: right;\n",
              "    }\n",
              "</style>\n",
              "<table border=\"1\" class=\"dataframe\">\n",
              "  <thead>\n",
              "    <tr style=\"text-align: right;\">\n",
              "      <th></th>\n",
              "      <th>ISBN</th>\n",
              "      <th>BookTitle</th>\n",
              "      <th>BookAuthor</th>\n",
              "      <th>YearOfPublication</th>\n",
              "      <th>Publisher</th>\n",
              "    </tr>\n",
              "  </thead>\n",
              "  <tbody>\n",
              "    <tr>\n",
              "      <th>0</th>\n",
              "      <td>0195153448</td>\n",
              "      <td>Classical Mythology</td>\n",
              "      <td>Mark P. O. Morford</td>\n",
              "      <td>2002</td>\n",
              "      <td>Oxford University Press</td>\n",
              "    </tr>\n",
              "    <tr>\n",
              "      <th>1</th>\n",
              "      <td>0002005018</td>\n",
              "      <td>Clara Callan</td>\n",
              "      <td>Richard Bruce Wright</td>\n",
              "      <td>2001</td>\n",
              "      <td>HarperFlamingo Canada</td>\n",
              "    </tr>\n",
              "    <tr>\n",
              "      <th>2</th>\n",
              "      <td>0060973129</td>\n",
              "      <td>Decision in Normandy</td>\n",
              "      <td>Carlo D'Este</td>\n",
              "      <td>1991</td>\n",
              "      <td>HarperPerennial</td>\n",
              "    </tr>\n",
              "    <tr>\n",
              "      <th>3</th>\n",
              "      <td>0374157065</td>\n",
              "      <td>Flu: The Story of the Great Influenza Pandemic...</td>\n",
              "      <td>Gina Bari Kolata</td>\n",
              "      <td>1999</td>\n",
              "      <td>Farrar Straus Giroux</td>\n",
              "    </tr>\n",
              "    <tr>\n",
              "      <th>4</th>\n",
              "      <td>0393045218</td>\n",
              "      <td>The Mummies of Urumchi</td>\n",
              "      <td>E. J. W. Barber</td>\n",
              "      <td>1999</td>\n",
              "      <td>W. W. Norton &amp;amp; Company</td>\n",
              "    </tr>\n",
              "  </tbody>\n",
              "</table>\n",
              "</div>"
            ],
            "text/plain": [
              "         ISBN  ...                   Publisher\n",
              "0  0195153448  ...     Oxford University Press\n",
              "1  0002005018  ...       HarperFlamingo Canada\n",
              "2  0060973129  ...             HarperPerennial\n",
              "3  0374157065  ...        Farrar Straus Giroux\n",
              "4  0393045218  ...  W. W. Norton &amp; Company\n",
              "\n",
              "[5 rows x 5 columns]"
            ]
          },
          "metadata": {},
          "execution_count": 13
        }
      ]
    },
    {
      "cell_type": "markdown",
      "metadata": {
        "id": "NF-KUQL3LgE5"
      },
      "source": [
        "Memeriksa nilai yang kosong pada dataset buku Author"
      ]
    },
    {
      "cell_type": "code",
      "metadata": {
        "colab": {
          "base_uri": "https://localhost:8080/"
        },
        "id": "fJ0yFZmLK-33",
        "outputId": "605b2f03-f1a6-43bf-a526-f149bfc6fe84"
      },
      "source": [
        "books.isnull().sum()"
      ],
      "execution_count": 14,
      "outputs": [
        {
          "output_type": "execute_result",
          "data": {
            "text/plain": [
              "ISBN                 0\n",
              "BookTitle            0\n",
              "BookAuthor           0\n",
              "YearOfPublication    0\n",
              "Publisher            0\n",
              "dtype: int64"
            ]
          },
          "metadata": {},
          "execution_count": 14
        }
      ]
    },
    {
      "cell_type": "markdown",
      "metadata": {
        "id": "t9AKF3lJL-jF"
      },
      "source": [
        "Dapat dilihat bahwa ada **1** baris pada kolom **BookAuthor** bernilai **null** (kosong), dan **2** baris pada kolom **Publisher** bernilai **null** (kosong)"
      ]
    },
    {
      "cell_type": "markdown",
      "metadata": {
        "id": "DZBPD3f-H_Km"
      },
      "source": [
        "### Author\n",
        "\n"
      ]
    },
    {
      "cell_type": "markdown",
      "metadata": {
        "id": "cgs3Rr-iMaSg"
      },
      "source": [
        "Mengganti nilai null pada baris BookAuthor menjadi **Unknown**. Karena kita tidak tahu pasti siapa yang menjadi penulis atau pengarang buku tersebut"
      ]
    },
    {
      "cell_type": "code",
      "metadata": {
        "id": "Q3L3aYs9LHpm"
      },
      "source": [
        "books.BookAuthor.fillna(\"Unknown\",inplace=True)"
      ],
      "execution_count": 15,
      "outputs": []
    },
    {
      "cell_type": "markdown",
      "metadata": {
        "id": "ueKQtY19Mwg9"
      },
      "source": [
        "Mengecek kembali data yang kosong"
      ]
    },
    {
      "cell_type": "code",
      "metadata": {
        "colab": {
          "base_uri": "https://localhost:8080/"
        },
        "id": "67blMHj4Mv3R",
        "outputId": "0f551ab2-ede6-4378-e1d6-8f4114d73666"
      },
      "source": [
        "books.isnull().sum()"
      ],
      "execution_count": 16,
      "outputs": [
        {
          "output_type": "execute_result",
          "data": {
            "text/plain": [
              "ISBN                 0\n",
              "BookTitle            0\n",
              "BookAuthor           0\n",
              "YearOfPublication    0\n",
              "Publisher            0\n",
              "dtype: int64"
            ]
          },
          "metadata": {},
          "execution_count": 16
        }
      ]
    },
    {
      "cell_type": "markdown",
      "metadata": {
        "id": "qlqKQ0RTRqYT"
      },
      "source": [
        "### YearOfPublication\n",
        "\n"
      ]
    },
    {
      "cell_type": "markdown",
      "metadata": {
        "id": "ch2DL4j85HQK"
      },
      "source": [
        "Memeriksa nilai pada variabel YearOfPublication"
      ]
    },
    {
      "cell_type": "code",
      "metadata": {
        "colab": {
          "base_uri": "https://localhost:8080/"
        },
        "id": "gRmTuQXsJ2g1",
        "outputId": "421fccba-f49a-4f0b-c85c-bd9a99ca19b7"
      },
      "source": [
        "books.YearOfPublication.describe()"
      ],
      "execution_count": 17,
      "outputs": [
        {
          "output_type": "execute_result",
          "data": {
            "text/plain": [
              "count     10000\n",
              "unique       62\n",
              "top        2002\n",
              "freq        919\n",
              "Name: YearOfPublication, dtype: int64"
            ]
          },
          "metadata": {},
          "execution_count": 17
        }
      ]
    },
    {
      "cell_type": "code",
      "metadata": {
        "colab": {
          "base_uri": "https://localhost:8080/"
        },
        "id": "590FMpPRPL-_",
        "outputId": "ab92150d-9682-430a-c797-b3420b6bffa8"
      },
      "source": [
        "books.YearOfPublication.unique()"
      ],
      "execution_count": 18,
      "outputs": [
        {
          "output_type": "execute_result",
          "data": {
            "text/plain": [
              "array([2002, 2001, 1991, 1999, 2000, 1993, 1996, 1988, 2004, 1998, 1994,\n",
              "       2003, 1997, 1983, 1979, 1995, 1982, 1985, 1992, 1986, 1978, 1980,\n",
              "       1952, 1987, 1990, 1981, 1989, 1984, 0, 1968, 1961, 1958, 1974,\n",
              "       1976, 1971, 1977, 1975, 1965, 1941, 1970, 1962, 1973, 1972, 1960,\n",
              "       1966, 1920, 1956, 1959, 1953, 1951, 1942, 1963, 1964, 1969, 1954,\n",
              "       1950, 1967, 2005, 1957, 1940, 1937, 1955], dtype=object)"
            ]
          },
          "metadata": {},
          "execution_count": 18
        }
      ]
    },
    {
      "cell_type": "markdown",
      "metadata": {
        "id": "Oh6le7cKgTKw"
      },
      "source": [
        "Pada hasil keluaran diatas ternyata ada beberapa nilai yang salah di dalam variabel YearOfPublication ini. Yaitu nama penerbit *DK Publishing Inc* dan *Gallimard*. Juga ada beberapa nilai yang merupakan tipe data string pada baris tahun. Perbaikan yang diperlukan untuk baris tahun ini adalah menginput nilai yang baru bertipe data integer.\n",
        "\n",
        "Hal ini disebabkan karena ada kesalahan pada saat penginputan ke dalam file csv.\n",
        "\n"
      ]
    },
    {
      "cell_type": "markdown",
      "metadata": {
        "id": "7-UKgt8SgcY6"
      },
      "source": [
        "Menyelidiki baris yang memiliki nama _DK Publishing Inc_"
      ]
    },
    {
      "cell_type": "code",
      "metadata": {
        "colab": {
          "base_uri": "https://localhost:8080/",
          "height": 49
        },
        "id": "X82OL1VdQt28",
        "outputId": "8ae18dd8-b617-4eef-a5b5-168439422471"
      },
      "source": [
        "books.loc[books.YearOfPublication == 'DK Publishing Inc',:]"
      ],
      "execution_count": 19,
      "outputs": [
        {
          "output_type": "execute_result",
          "data": {
            "text/html": [
              "<div>\n",
              "<style scoped>\n",
              "    .dataframe tbody tr th:only-of-type {\n",
              "        vertical-align: middle;\n",
              "    }\n",
              "\n",
              "    .dataframe tbody tr th {\n",
              "        vertical-align: top;\n",
              "    }\n",
              "\n",
              "    .dataframe thead th {\n",
              "        text-align: right;\n",
              "    }\n",
              "</style>\n",
              "<table border=\"1\" class=\"dataframe\">\n",
              "  <thead>\n",
              "    <tr style=\"text-align: right;\">\n",
              "      <th></th>\n",
              "      <th>ISBN</th>\n",
              "      <th>BookTitle</th>\n",
              "      <th>BookAuthor</th>\n",
              "      <th>YearOfPublication</th>\n",
              "      <th>Publisher</th>\n",
              "    </tr>\n",
              "  </thead>\n",
              "  <tbody>\n",
              "  </tbody>\n",
              "</table>\n",
              "</div>"
            ],
            "text/plain": [
              "Empty DataFrame\n",
              "Columns: [ISBN, BookTitle, BookAuthor, YearOfPublication, Publisher]\n",
              "Index: []"
            ]
          },
          "metadata": {},
          "execution_count": 19
        }
      ]
    },
    {
      "cell_type": "markdown",
      "metadata": {
        "id": "uZdxeVIYicjP"
      },
      "source": [
        "Dapat dilihat diatas bahwa *BookAuthor* salah dimuat dengan *BookTitle*, sehingga diperlukan perbaikan"
      ]
    },
    {
      "cell_type": "code",
      "metadata": {
        "id": "-ymmzjCbQvZr"
      },
      "source": [
        "# ISBN '0789466953'\n",
        "books.loc[books.ISBN == '0789466953','YearOfPublication'] = 2000\n",
        "books.loc[books.ISBN == '0789466953','BookAuthor'] = \"James Buckley\"\n",
        "books.loc[books.ISBN == '0789466953','Publisher'] = \"DK Publishing Inc\"\n",
        "books.loc[books.ISBN == '0789466953','BookTitle'] = \"DK Readers: Creating the X-Men, How Comic Books Come to Life (Level 4: Proficient Readers)\"\n",
        "\n",
        "# ISBN '078946697X'\n",
        "books.loc[books.ISBN == '078946697X','YearOfPublication'] = 2000\n",
        "books.loc[books.ISBN == '078946697X','BookAuthor'] = \"Michael Teitelbaum\"\n",
        "books.loc[books.ISBN == '078946697X','Publisher'] = \"DK Publishing Inc\"\n",
        "books.loc[books.ISBN == '078946697X','BookTitle'] = \"DK Readers: Creating the X-Men, How It All Began (Level 4: Proficient Readers)\""
      ],
      "execution_count": 20,
      "outputs": []
    },
    {
      "cell_type": "markdown",
      "metadata": {
        "id": "zSuYLebbniDf"
      },
      "source": [
        "Menyelidiki baris yang memiliki nama *Gallimard*"
      ]
    },
    {
      "cell_type": "code",
      "metadata": {
        "colab": {
          "base_uri": "https://localhost:8080/",
          "height": 49
        },
        "id": "B_tVE2A-QyYF",
        "outputId": "8ae524b7-cd9d-41ce-bded-10cb3ed30d40"
      },
      "source": [
        "books.loc[books.YearOfPublication == 'Gallimard',:]"
      ],
      "execution_count": 21,
      "outputs": [
        {
          "output_type": "execute_result",
          "data": {
            "text/html": [
              "<div>\n",
              "<style scoped>\n",
              "    .dataframe tbody tr th:only-of-type {\n",
              "        vertical-align: middle;\n",
              "    }\n",
              "\n",
              "    .dataframe tbody tr th {\n",
              "        vertical-align: top;\n",
              "    }\n",
              "\n",
              "    .dataframe thead th {\n",
              "        text-align: right;\n",
              "    }\n",
              "</style>\n",
              "<table border=\"1\" class=\"dataframe\">\n",
              "  <thead>\n",
              "    <tr style=\"text-align: right;\">\n",
              "      <th></th>\n",
              "      <th>ISBN</th>\n",
              "      <th>BookTitle</th>\n",
              "      <th>BookAuthor</th>\n",
              "      <th>YearOfPublication</th>\n",
              "      <th>Publisher</th>\n",
              "    </tr>\n",
              "  </thead>\n",
              "  <tbody>\n",
              "  </tbody>\n",
              "</table>\n",
              "</div>"
            ],
            "text/plain": [
              "Empty DataFrame\n",
              "Columns: [ISBN, BookTitle, BookAuthor, YearOfPublication, Publisher]\n",
              "Index: []"
            ]
          },
          "metadata": {},
          "execution_count": 21
        }
      ]
    },
    {
      "cell_type": "markdown",
      "metadata": {
        "id": "OvouMA3ewBmY"
      },
      "source": [
        "Mengkoreksi data"
      ]
    },
    {
      "cell_type": "code",
      "metadata": {
        "id": "JF0A9sDeQ4Ux"
      },
      "source": [
        "books.loc[books.ISBN == '2070426769','YearOfPublication'] = 2003\n",
        "books.loc[books.ISBN == '2070426769','BookAuthor'] = \"Jean-Marie Gustave Le ClÃ?Â©zio\"\n",
        "books.loc[books.ISBN == '2070426769','Publisher'] = \"Gallimard\"\n",
        "books.loc[books.ISBN == '2070426769','BookTitle'] = \"Peuple du ciel, suivi de 'Les Bergers\""
      ],
      "execution_count": 22,
      "outputs": []
    },
    {
      "cell_type": "code",
      "metadata": {
        "colab": {
          "base_uri": "https://localhost:8080/"
        },
        "id": "qSfJ3KL-Q8UG",
        "outputId": "28018bcc-f44d-49c9-fd3c-2c3bae833b08"
      },
      "source": [
        "books.YearOfPublication = pd.to_numeric(books.YearOfPublication, errors='coerce')\n",
        "\n",
        "print(sorted(books['YearOfPublication'].unique()))"
      ],
      "execution_count": 23,
      "outputs": [
        {
          "output_type": "stream",
          "name": "stdout",
          "text": [
            "[0, 1920, 1937, 1940, 1941, 1942, 1950, 1951, 1952, 1953, 1954, 1955, 1956, 1957, 1958, 1959, 1960, 1961, 1962, 1963, 1964, 1965, 1966, 1967, 1968, 1969, 1970, 1971, 1972, 1973, 1974, 1975, 1976, 1977, 1978, 1979, 1980, 1981, 1982, 1983, 1984, 1985, 1986, 1987, 1988, 1989, 1990, 1991, 1992, 1993, 1994, 1995, 1996, 1997, 1998, 1999, 2000, 2001, 2002, 2003, 2004, 2005]\n"
          ]
        }
      ]
    },
    {
      "cell_type": "markdown",
      "metadata": {
        "id": "gQS_iePRxvyP"
      },
      "source": [
        "Dari hasil output diatas, dapat dilihat bahwa semua nilai yang ada pada variabel YearOfPublication bernilai bilangan bulat (integer) dan memiliki nilai yang berkisar diantara 0–2050.\n",
        "\n",
        "Karena kumpulan data ini dibuat pada tahun 2004, dapat diasumsikan bahwa semua tahun setelah 2006 menjadi tidak valid dengan menjaga margin dua tahun (jika kumpulan data mungkin telah diperbarui).\n",
        "\n",
        "Untuk semua nilai yang tidak valid (termasuk 0), akan dikonversikan ke *NaN* terlebih dahulu, lalu akan diganti dengan nilai rata-rata tahun."
      ]
    },
    {
      "cell_type": "markdown",
      "metadata": {
        "id": "A25ers1p0L7K"
      },
      "source": [
        "Mengkonversi nilai ke NaN terlebih dahulu"
      ]
    },
    {
      "cell_type": "code",
      "metadata": {
        "id": "nxUd0_8pRArd"
      },
      "source": [
        "books.loc[(books.YearOfPublication > 2006) | (books.YearOfPublication == 0),'YearOfPublication'] = np.NAN"
      ],
      "execution_count": 24,
      "outputs": []
    },
    {
      "cell_type": "markdown",
      "metadata": {
        "id": "OHtLtkPFzoHt"
      },
      "source": [
        "Mengganti nilai *NaN* dengan nilai rata-rata tahun"
      ]
    },
    {
      "cell_type": "code",
      "metadata": {
        "id": "Gl3Ht1DazmKG"
      },
      "source": [
        "books.YearOfPublication.fillna(round(books.YearOfPublication.mean()), inplace=True)"
      ],
      "execution_count": 25,
      "outputs": []
    },
    {
      "cell_type": "markdown",
      "metadata": {
        "id": "foJQ6f5Vz3b2"
      },
      "source": [
        "Mengecek kembali apakah terdapat nilai yang kosong pada variabel YearOfPublication"
      ]
    },
    {
      "cell_type": "code",
      "metadata": {
        "colab": {
          "base_uri": "https://localhost:8080/"
        },
        "id": "iGWot3WXRFv3",
        "outputId": "a127bfa7-5b2c-4523-f503-2da371539f34"
      },
      "source": [
        "books.YearOfPublication.isnull().sum()"
      ],
      "execution_count": 26,
      "outputs": [
        {
          "output_type": "execute_result",
          "data": {
            "text/plain": [
              "0"
            ]
          },
          "metadata": {},
          "execution_count": 26
        }
      ]
    },
    {
      "cell_type": "markdown",
      "metadata": {
        "id": "3qHcuMSTaIJu"
      },
      "source": [
        "### Publisher"
      ]
    },
    {
      "cell_type": "markdown",
      "metadata": {
        "id": "QjXFfAsX0Xnm"
      },
      "source": [
        "Melihat pada variabel Publisher apakah terdapat nilai *NaN* atau tidak"
      ]
    },
    {
      "cell_type": "code",
      "metadata": {
        "colab": {
          "base_uri": "https://localhost:8080/",
          "height": 49
        },
        "id": "Bs6sKz5fRLn_",
        "outputId": "ff660d80-1d93-4ba1-c6d4-96294f6028d2"
      },
      "source": [
        "books.loc[books.Publisher.isnull(),:]"
      ],
      "execution_count": 27,
      "outputs": [
        {
          "output_type": "execute_result",
          "data": {
            "text/html": [
              "<div>\n",
              "<style scoped>\n",
              "    .dataframe tbody tr th:only-of-type {\n",
              "        vertical-align: middle;\n",
              "    }\n",
              "\n",
              "    .dataframe tbody tr th {\n",
              "        vertical-align: top;\n",
              "    }\n",
              "\n",
              "    .dataframe thead th {\n",
              "        text-align: right;\n",
              "    }\n",
              "</style>\n",
              "<table border=\"1\" class=\"dataframe\">\n",
              "  <thead>\n",
              "    <tr style=\"text-align: right;\">\n",
              "      <th></th>\n",
              "      <th>ISBN</th>\n",
              "      <th>BookTitle</th>\n",
              "      <th>BookAuthor</th>\n",
              "      <th>YearOfPublication</th>\n",
              "      <th>Publisher</th>\n",
              "    </tr>\n",
              "  </thead>\n",
              "  <tbody>\n",
              "  </tbody>\n",
              "</table>\n",
              "</div>"
            ],
            "text/plain": [
              "Empty DataFrame\n",
              "Columns: [ISBN, BookTitle, BookAuthor, YearOfPublication, Publisher]\n",
              "Index: []"
            ]
          },
          "metadata": {},
          "execution_count": 27
        }
      ]
    },
    {
      "cell_type": "markdown",
      "metadata": {
        "id": "jwr1X8Qz0xYA"
      },
      "source": [
        "Dapat dilihat bahwa terdapat 2 baris dengan nilai *NaN* pada variabel Publisher.\n",
        "\n",
        "Nilai *NaN* ini dapat ditangani dengan mengisikan nilai **Other**, karena nama penerbit pada buku tersebut tidak dapat disimpulkan."
      ]
    },
    {
      "cell_type": "markdown",
      "metadata": {
        "id": "kkwbV48I1ai3"
      },
      "source": [
        "Mengisikan nilai **Other** ke dalam baris yang memiliki nilai NaN."
      ]
    },
    {
      "cell_type": "code",
      "metadata": {
        "id": "t5g5kkHIafU4"
      },
      "source": [
        "books.loc[(books.ISBN == '193169656X'), 'Publisher'] = 'Other'\n",
        "books.loc[(books.ISBN == '1931696993'), 'Publisher'] = 'Other'"
      ],
      "execution_count": 28,
      "outputs": []
    },
    {
      "cell_type": "markdown",
      "metadata": {
        "id": "T53ElplJHVha"
      },
      "source": [
        "Mengecek kembali variabel Publisher"
      ]
    },
    {
      "cell_type": "code",
      "metadata": {
        "colab": {
          "base_uri": "https://localhost:8080/"
        },
        "id": "Gq8uS3QxHVHN",
        "outputId": "28562b87-77bf-4467-d8f2-e23462640b2a"
      },
      "source": [
        "books.Publisher.isnull().sum()"
      ],
      "execution_count": 29,
      "outputs": [
        {
          "output_type": "execute_result",
          "data": {
            "text/plain": [
              "0"
            ]
          },
          "metadata": {},
          "execution_count": 29
        }
      ]
    },
    {
      "cell_type": "markdown",
      "metadata": {
        "id": "4z39lW5kbU_Y"
      },
      "source": [
        "## Users"
      ]
    },
    {
      "cell_type": "markdown",
      "metadata": {
        "id": "7xMc1UYq4pTe"
      },
      "source": [
        "Memeriksa nilai pada dataset Users"
      ]
    },
    {
      "cell_type": "code",
      "metadata": {
        "colab": {
          "base_uri": "https://localhost:8080/"
        },
        "id": "coPPdkEW1tc2",
        "outputId": "45c6b374-06e3-4bda-d3c5-eaaedc4cbd91"
      },
      "source": [
        "users.dtypes"
      ],
      "execution_count": 30,
      "outputs": [
        {
          "output_type": "execute_result",
          "data": {
            "text/plain": [
              "UserID        int64\n",
              "Location     object\n",
              "Age         float64\n",
              "dtype: object"
            ]
          },
          "metadata": {},
          "execution_count": 30
        }
      ]
    },
    {
      "cell_type": "code",
      "metadata": {
        "colab": {
          "base_uri": "https://localhost:8080/",
          "height": 204
        },
        "id": "rhVZhNiNbgiQ",
        "outputId": "180d0dde-6e24-46c9-fd28-77c0615bc08c"
      },
      "source": [
        "users.head()"
      ],
      "execution_count": 31,
      "outputs": [
        {
          "output_type": "execute_result",
          "data": {
            "text/html": [
              "<div>\n",
              "<style scoped>\n",
              "    .dataframe tbody tr th:only-of-type {\n",
              "        vertical-align: middle;\n",
              "    }\n",
              "\n",
              "    .dataframe tbody tr th {\n",
              "        vertical-align: top;\n",
              "    }\n",
              "\n",
              "    .dataframe thead th {\n",
              "        text-align: right;\n",
              "    }\n",
              "</style>\n",
              "<table border=\"1\" class=\"dataframe\">\n",
              "  <thead>\n",
              "    <tr style=\"text-align: right;\">\n",
              "      <th></th>\n",
              "      <th>UserID</th>\n",
              "      <th>Location</th>\n",
              "      <th>Age</th>\n",
              "    </tr>\n",
              "  </thead>\n",
              "  <tbody>\n",
              "    <tr>\n",
              "      <th>0</th>\n",
              "      <td>1</td>\n",
              "      <td>nyc, new york, usa</td>\n",
              "      <td>NaN</td>\n",
              "    </tr>\n",
              "    <tr>\n",
              "      <th>1</th>\n",
              "      <td>2</td>\n",
              "      <td>stockton, california, usa</td>\n",
              "      <td>18.0</td>\n",
              "    </tr>\n",
              "    <tr>\n",
              "      <th>2</th>\n",
              "      <td>3</td>\n",
              "      <td>moscow, yukon territory, russia</td>\n",
              "      <td>NaN</td>\n",
              "    </tr>\n",
              "    <tr>\n",
              "      <th>3</th>\n",
              "      <td>4</td>\n",
              "      <td>porto, v.n.gaia, portugal</td>\n",
              "      <td>17.0</td>\n",
              "    </tr>\n",
              "    <tr>\n",
              "      <th>4</th>\n",
              "      <td>5</td>\n",
              "      <td>farnborough, hants, united kingdom</td>\n",
              "      <td>NaN</td>\n",
              "    </tr>\n",
              "  </tbody>\n",
              "</table>\n",
              "</div>"
            ],
            "text/plain": [
              "   UserID                            Location   Age\n",
              "0       1                  nyc, new york, usa   NaN\n",
              "1       2           stockton, california, usa  18.0\n",
              "2       3     moscow, yukon territory, russia   NaN\n",
              "3       4           porto, v.n.gaia, portugal  17.0\n",
              "4       5  farnborough, hants, united kingdom   NaN"
            ]
          },
          "metadata": {},
          "execution_count": 31
        }
      ]
    },
    {
      "cell_type": "markdown",
      "metadata": {
        "id": "zTa9B8JybqZ_"
      },
      "source": [
        "### Age"
      ]
    },
    {
      "cell_type": "code",
      "metadata": {
        "colab": {
          "base_uri": "https://localhost:8080/"
        },
        "id": "7U34tF9Xblm_",
        "outputId": "72888eb2-0a42-4649-862e-b75c9079cccc"
      },
      "source": [
        "users.UserID.values"
      ],
      "execution_count": 32,
      "outputs": [
        {
          "output_type": "execute_result",
          "data": {
            "text/plain": [
              "array([     1,      2,      3, ..., 278856, 278857, 278858])"
            ]
          },
          "metadata": {},
          "execution_count": 32
        }
      ]
    },
    {
      "cell_type": "code",
      "metadata": {
        "colab": {
          "base_uri": "https://localhost:8080/"
        },
        "id": "WNwaqQxpbvpn",
        "outputId": "6b429d52-e6b2-4ca5-b4c5-af981a00f448"
      },
      "source": [
        "print(sorted(users.Age.unique()))"
      ],
      "execution_count": 33,
      "outputs": [
        {
          "output_type": "stream",
          "name": "stdout",
          "text": [
            "[nan, 0.0, 1.0, 2.0, 3.0, 4.0, 5.0, 6.0, 7.0, 8.0, 9.0, 10.0, 11.0, 12.0, 13.0, 14.0, 15.0, 16.0, 17.0, 18.0, 19.0, 20.0, 21.0, 22.0, 23.0, 24.0, 25.0, 26.0, 27.0, 28.0, 29.0, 30.0, 31.0, 32.0, 33.0, 34.0, 35.0, 36.0, 37.0, 38.0, 39.0, 40.0, 41.0, 42.0, 43.0, 44.0, 45.0, 46.0, 47.0, 48.0, 49.0, 50.0, 51.0, 52.0, 53.0, 54.0, 55.0, 56.0, 57.0, 58.0, 59.0, 60.0, 61.0, 62.0, 63.0, 64.0, 65.0, 66.0, 67.0, 68.0, 69.0, 70.0, 71.0, 72.0, 73.0, 74.0, 75.0, 76.0, 77.0, 78.0, 79.0, 80.0, 81.0, 82.0, 83.0, 84.0, 85.0, 86.0, 87.0, 88.0, 89.0, 90.0, 91.0, 92.0, 93.0, 94.0, 95.0, 96.0, 97.0, 98.0, 99.0, 100.0, 101.0, 102.0, 103.0, 104.0, 105.0, 106.0, 107.0, 108.0, 109.0, 110.0, 111.0, 113.0, 114.0, 115.0, 116.0, 118.0, 119.0, 123.0, 124.0, 127.0, 128.0, 132.0, 133.0, 136.0, 137.0, 138.0, 140.0, 141.0, 143.0, 146.0, 147.0, 148.0, 151.0, 152.0, 156.0, 157.0, 159.0, 162.0, 168.0, 172.0, 175.0, 183.0, 186.0, 189.0, 199.0, 200.0, 201.0, 204.0, 207.0, 208.0, 209.0, 210.0, 212.0, 219.0, 220.0, 223.0, 226.0, 228.0, 229.0, 230.0, 231.0, 237.0, 239.0, 244.0]\n"
          ]
        }
      ]
    },
    {
      "cell_type": "markdown",
      "metadata": {
        "id": "M7Leq1Dh2OqQ"
      },
      "source": [
        "Dari keluaran kedua data diatas dapat dilihat bahwa, nilai UserID. Namun pada variabel Age ada beberapa baris yang memiliki nilai NaN dan beberapa nilai yang tidak valid. Misalnya, usia di bawah 5 tahun dan di atas 90 tahun tidak masuk akal.\n",
        "\n",
        "Cara memperbaikinya adalah nilai yang seperti ini diganti dengan NaN terlebih dahulu, lalu selanjutnya akan diganti dengan nilai rata-rata variabel Age. Dan tipe datanya akan diubah ke integer."
      ]
    },
    {
      "cell_type": "markdown",
      "metadata": {
        "id": "BhND33mp3nRW"
      },
      "source": [
        "Mengganti nilai variabel Age yang di bawah 5 dan di atas 90 menjadi NaN"
      ]
    },
    {
      "cell_type": "code",
      "metadata": {
        "id": "cVAjfvEAb3hZ"
      },
      "source": [
        "users.loc[(users.Age > 90) | (users.Age < 5), 'Age'] = np.nan"
      ],
      "execution_count": 34,
      "outputs": []
    },
    {
      "cell_type": "markdown",
      "metadata": {
        "id": "3AhfG71B32Xu"
      },
      "source": [
        "Menggani nilai NaN di dalam variabel Age menjadi nilai rata-rata, dan tipe datanya akan diubah ke integer."
      ]
    },
    {
      "cell_type": "code",
      "metadata": {
        "id": "zJUwxK2N3jf1"
      },
      "source": [
        "users.Age = users.Age.fillna(users.Age.mean())\n",
        "users.Age = users.Age.astype(np.int64)"
      ],
      "execution_count": 35,
      "outputs": []
    },
    {
      "cell_type": "code",
      "metadata": {
        "colab": {
          "base_uri": "https://localhost:8080/"
        },
        "id": "4DVlTKhtcXvY",
        "outputId": "d1b86d95-9ff7-437d-faf0-850ae589bc66"
      },
      "source": [
        "print(sorted(users.Age.unique()))"
      ],
      "execution_count": 36,
      "outputs": [
        {
          "output_type": "stream",
          "name": "stdout",
          "text": [
            "[5, 6, 7, 8, 9, 10, 11, 12, 13, 14, 15, 16, 17, 18, 19, 20, 21, 22, 23, 24, 25, 26, 27, 28, 29, 30, 31, 32, 33, 34, 35, 36, 37, 38, 39, 40, 41, 42, 43, 44, 45, 46, 47, 48, 49, 50, 51, 52, 53, 54, 55, 56, 57, 58, 59, 60, 61, 62, 63, 64, 65, 66, 67, 68, 69, 70, 71, 72, 73, 74, 75, 76, 77, 78, 79, 80, 81, 82, 83, 84, 85, 86, 87, 88, 89, 90]\n"
          ]
        }
      ]
    },
    {
      "cell_type": "markdown",
      "metadata": {
        "id": "9ic9dPKXceFZ"
      },
      "source": [
        "## Ratings"
      ]
    },
    {
      "cell_type": "markdown",
      "metadata": {
        "id": "2HId5stA4lHA"
      },
      "source": [
        "Memeriksa dataset Ratings."
      ]
    },
    {
      "cell_type": "code",
      "metadata": {
        "colab": {
          "base_uri": "https://localhost:8080/"
        },
        "id": "HJRRp5XG6GD_",
        "outputId": "e973eef0-fdcf-4859-90e4-aef3362fd549"
      },
      "source": [
        "ratings.shape"
      ],
      "execution_count": 37,
      "outputs": [
        {
          "output_type": "execute_result",
          "data": {
            "text/plain": [
              "(5000, 3)"
            ]
          },
          "metadata": {},
          "execution_count": 37
        }
      ]
    },
    {
      "cell_type": "code",
      "metadata": {
        "colab": {
          "base_uri": "https://localhost:8080/",
          "height": 204
        },
        "id": "GyJ2Cz2xctoX",
        "outputId": "1ba46eee-2429-49fb-9569-9190964cc687"
      },
      "source": [
        "ratings.head()"
      ],
      "execution_count": 38,
      "outputs": [
        {
          "output_type": "execute_result",
          "data": {
            "text/html": [
              "<div>\n",
              "<style scoped>\n",
              "    .dataframe tbody tr th:only-of-type {\n",
              "        vertical-align: middle;\n",
              "    }\n",
              "\n",
              "    .dataframe tbody tr th {\n",
              "        vertical-align: top;\n",
              "    }\n",
              "\n",
              "    .dataframe thead th {\n",
              "        text-align: right;\n",
              "    }\n",
              "</style>\n",
              "<table border=\"1\" class=\"dataframe\">\n",
              "  <thead>\n",
              "    <tr style=\"text-align: right;\">\n",
              "      <th></th>\n",
              "      <th>UserID</th>\n",
              "      <th>ISBN</th>\n",
              "      <th>BookRating</th>\n",
              "    </tr>\n",
              "  </thead>\n",
              "  <tbody>\n",
              "    <tr>\n",
              "      <th>0</th>\n",
              "      <td>276725</td>\n",
              "      <td>034545104X</td>\n",
              "      <td>0</td>\n",
              "    </tr>\n",
              "    <tr>\n",
              "      <th>1</th>\n",
              "      <td>276726</td>\n",
              "      <td>0155061224</td>\n",
              "      <td>5</td>\n",
              "    </tr>\n",
              "    <tr>\n",
              "      <th>2</th>\n",
              "      <td>276727</td>\n",
              "      <td>0446520802</td>\n",
              "      <td>0</td>\n",
              "    </tr>\n",
              "    <tr>\n",
              "      <th>3</th>\n",
              "      <td>276729</td>\n",
              "      <td>052165615X</td>\n",
              "      <td>3</td>\n",
              "    </tr>\n",
              "    <tr>\n",
              "      <th>4</th>\n",
              "      <td>276729</td>\n",
              "      <td>0521795028</td>\n",
              "      <td>6</td>\n",
              "    </tr>\n",
              "  </tbody>\n",
              "</table>\n",
              "</div>"
            ],
            "text/plain": [
              "   UserID        ISBN  BookRating\n",
              "0  276725  034545104X           0\n",
              "1  276726  0155061224           5\n",
              "2  276727  0446520802           0\n",
              "3  276729  052165615X           3\n",
              "4  276729  0521795028           6"
            ]
          },
          "metadata": {},
          "execution_count": 38
        }
      ]
    },
    {
      "cell_type": "markdown",
      "metadata": {
        "id": "gCUmmX267Ban"
      },
      "source": [
        "Dataset Ratings harus memiliki jumlah UserID dan ISBN yang ada di tabel masing-masing, yaitu Users dan Books. Dengan cara menggabungkannya."
      ]
    },
    {
      "cell_type": "code",
      "metadata": {
        "id": "fkGk2iizc6no"
      },
      "source": [
        "ratings_new = ratings[ratings.ISBN.isin(books.ISBN)]\n",
        "ratings_new = ratings_new[ratings_new.UserID.isin(users.UserID)]"
      ],
      "execution_count": 39,
      "outputs": []
    },
    {
      "cell_type": "code",
      "metadata": {
        "colab": {
          "base_uri": "https://localhost:8080/"
        },
        "id": "uaf5gNu3dLxn",
        "outputId": "66bd10d4-d810-46cd-c191-b0e4d1fd4e24"
      },
      "source": [
        "print(ratings.shape)\n",
        "print(ratings_new.shape)"
      ],
      "execution_count": 40,
      "outputs": [
        {
          "output_type": "stream",
          "name": "stdout",
          "text": [
            "(5000, 3)\n",
            "(1116, 3)\n"
          ]
        }
      ]
    },
    {
      "cell_type": "markdown",
      "metadata": {
        "id": "vdrPvfI0HCGa"
      },
      "source": [
        "Variabel Ratings eksplisit yang diwakili oleh nilai 1–10 dan variabel Ratings implisit yang diwakili oleh nilai 0 harus dipisahkan. Karena yang akan digunakan adalah **Ratings Explicit**. Begitu juga dengan dataset Users, yang akan digunakan adalah **Users Explicit**."
      ]
    },
    {
      "cell_type": "code",
      "metadata": {
        "colab": {
          "base_uri": "https://localhost:8080/"
        },
        "id": "wmn_hbaHdQVn",
        "outputId": "0b39ac92-c3e0-4248-a2c9-35d46eee0334"
      },
      "source": [
        "ratings.BookRating.unique()"
      ],
      "execution_count": 41,
      "outputs": [
        {
          "output_type": "execute_result",
          "data": {
            "text/plain": [
              "array([ 0,  5,  3,  6,  8,  7, 10,  9,  4,  1,  2])"
            ]
          },
          "metadata": {},
          "execution_count": 41
        }
      ]
    },
    {
      "cell_type": "code",
      "metadata": {
        "id": "pG15P9BLeW7Q"
      },
      "source": [
        "ratings_explicit = ratings_new[ratings_new.BookRating != 0]\n",
        "ratings_implicit = ratings_new[ratings_new.BookRating == 0]"
      ],
      "execution_count": 42,
      "outputs": []
    },
    {
      "cell_type": "code",
      "metadata": {
        "id": "iIKVR6gbIXpL"
      },
      "source": [
        "users_explicit = users[users.UserID.isin(ratings_explicit.UserID)]\n",
        "users_implicit = users[users.UserID.isin(ratings_implicit.UserID)]"
      ],
      "execution_count": 43,
      "outputs": []
    },
    {
      "cell_type": "markdown",
      "metadata": {
        "id": "xmAjtoOfJHL5"
      },
      "source": [
        "Visualisasi Data Ratings Explicit."
      ]
    },
    {
      "cell_type": "code",
      "metadata": {
        "colab": {
          "base_uri": "https://localhost:8080/",
          "height": 550
        },
        "id": "b0et93Ite3ER",
        "outputId": "370b4651-4eed-4051-dd5d-e79e27b8b66b"
      },
      "source": [
        "plt.style.use('fivethirtyeight')\n",
        "plt.figure(figsize=(12, 8))\n",
        "sns.countplot(data=ratings_explicit , x='BookRating', palette='rocket_r')"
      ],
      "execution_count": 44,
      "outputs": [
        {
          "output_type": "execute_result",
          "data": {
            "text/plain": [
              "<matplotlib.axes._subplots.AxesSubplot at 0x7f6338971f10>"
            ]
          },
          "metadata": {},
          "execution_count": 44
        },
        {
          "output_type": "display_data",
          "data": {
            "image/png": "[encoded data removed]",
            "text/plain": [
              "<Figure size 864x576 with 1 Axes>"
            ]
          },
          "metadata": {}
        }
      ]
    },
    {
      "cell_type": "markdown",
      "metadata": {
        "id": "yt-BeY86Jzjw"
      },
      "source": [
        "Pada visualisasi diagram batang diatas menunjukkan bahwa,rating buku yang lebih tinggi di antara pengguna adalah rating dengan nilai 8."
      ]
    },
    {
      "cell_type": "markdown",
      "metadata": {
        "id": "7oEU7Ql7Ac7c"
      },
      "source": [
        "## Penggabungan Data"
      ]
    },
    {
      "cell_type": "markdown",
      "metadata": {
        "id": "4f9vaXEPP4Ji"
      },
      "source": [
        "Jumlah data Buku yang akan digunakan adalah sebanyak 10000"
      ]
    },
    {
      "cell_type": "code",
      "metadata": {
        "id": "fsVBOlYvtYr7"
      },
      "source": [
        "book_ISBN = books.ISBN.tolist()\n",
        "book_Title = books.BookTitle.tolist()\n",
        "book_Author = books.BookAuthor.tolist()\n",
        "book_YearOfPublication = books.YearOfPublication.tolist()\n",
        "book_Publisher = books.Publisher.tolist()"
      ],
      "execution_count": 45,
      "outputs": []
    },
    {
      "cell_type": "code",
      "metadata": {
        "colab": {
          "base_uri": "https://localhost:8080/",
          "height": 504
        },
        "id": "SR6CABrKDbVs",
        "outputId": "06150da2-7c70-42fe-87da-47ad2b8ee655"
      },
      "source": [
        "books_new = pd.DataFrame({\n",
        "    'Book-ISBN': book_ISBN,\n",
        "    'Book-Title': book_Title,\n",
        "    'Book-Author': book_Author,\n",
        "    'Book-YearOfPublication': book_YearOfPublication,\n",
        "    'Book-Publisher': book_Publisher\n",
        "})\n",
        "books_new"
      ],
      "execution_count": 46,
      "outputs": [
        {
          "output_type": "execute_result",
          "data": {
            "text/html": [
              "<div>\n",
              "<style scoped>\n",
              "    .dataframe tbody tr th:only-of-type {\n",
              "        vertical-align: middle;\n",
              "    }\n",
              "\n",
              "    .dataframe tbody tr th {\n",
              "        vertical-align: top;\n",
              "    }\n",
              "\n",
              "    .dataframe thead th {\n",
              "        text-align: right;\n",
              "    }\n",
              "</style>\n",
              "<table border=\"1\" class=\"dataframe\">\n",
              "  <thead>\n",
              "    <tr style=\"text-align: right;\">\n",
              "      <th></th>\n",
              "      <th>Book-ISBN</th>\n",
              "      <th>Book-Title</th>\n",
              "      <th>Book-Author</th>\n",
              "      <th>Book-YearOfPublication</th>\n",
              "      <th>Book-Publisher</th>\n",
              "    </tr>\n",
              "  </thead>\n",
              "  <tbody>\n",
              "    <tr>\n",
              "      <th>0</th>\n",
              "      <td>0195153448</td>\n",
              "      <td>Classical Mythology</td>\n",
              "      <td>Mark P. O. Morford</td>\n",
              "      <td>2002.0</td>\n",
              "      <td>Oxford University Press</td>\n",
              "    </tr>\n",
              "    <tr>\n",
              "      <th>1</th>\n",
              "      <td>0002005018</td>\n",
              "      <td>Clara Callan</td>\n",
              "      <td>Richard Bruce Wright</td>\n",
              "      <td>2001.0</td>\n",
              "      <td>HarperFlamingo Canada</td>\n",
              "    </tr>\n",
              "    <tr>\n",
              "      <th>2</th>\n",
              "      <td>0060973129</td>\n",
              "      <td>Decision in Normandy</td>\n",
              "      <td>Carlo D'Este</td>\n",
              "      <td>1991.0</td>\n",
              "      <td>HarperPerennial</td>\n",
              "    </tr>\n",
              "    <tr>\n",
              "      <th>3</th>\n",
              "      <td>0374157065</td>\n",
              "      <td>Flu: The Story of the Great Influenza Pandemic...</td>\n",
              "      <td>Gina Bari Kolata</td>\n",
              "      <td>1999.0</td>\n",
              "      <td>Farrar Straus Giroux</td>\n",
              "    </tr>\n",
              "    <tr>\n",
              "      <th>4</th>\n",
              "      <td>0393045218</td>\n",
              "      <td>The Mummies of Urumchi</td>\n",
              "      <td>E. J. W. Barber</td>\n",
              "      <td>1999.0</td>\n",
              "      <td>W. W. Norton &amp;amp; Company</td>\n",
              "    </tr>\n",
              "    <tr>\n",
              "      <th>...</th>\n",
              "      <td>...</td>\n",
              "      <td>...</td>\n",
              "      <td>...</td>\n",
              "      <td>...</td>\n",
              "      <td>...</td>\n",
              "    </tr>\n",
              "    <tr>\n",
              "      <th>9995</th>\n",
              "      <td>0380730774</td>\n",
              "      <td>Read This and Tell Me What It Says : Stories (...</td>\n",
              "      <td>A. Manette Ansay</td>\n",
              "      <td>1998.0</td>\n",
              "      <td>William Morrow</td>\n",
              "    </tr>\n",
              "    <tr>\n",
              "      <th>9996</th>\n",
              "      <td>0862418879</td>\n",
              "      <td>The Star Rover</td>\n",
              "      <td>Jack London</td>\n",
              "      <td>2000.0</td>\n",
              "      <td>Canongate Books</td>\n",
              "    </tr>\n",
              "    <tr>\n",
              "      <th>9997</th>\n",
              "      <td>340414645X</td>\n",
              "      <td>Die Keltennadel.</td>\n",
              "      <td>Patrick Dunne</td>\n",
              "      <td>2001.0</td>\n",
              "      <td>LÃ?Â¼bbe</td>\n",
              "    </tr>\n",
              "    <tr>\n",
              "      <th>9998</th>\n",
              "      <td>3442730988</td>\n",
              "      <td>Tod in der Datscha.</td>\n",
              "      <td>Anna Malyschewa</td>\n",
              "      <td>2003.0</td>\n",
              "      <td>btb</td>\n",
              "    </tr>\n",
              "    <tr>\n",
              "      <th>9999</th>\n",
              "      <td>3404144783</td>\n",
              "      <td>Dunkel.</td>\n",
              "      <td>Wolfgang Hohlbein</td>\n",
              "      <td>2001.0</td>\n",
              "      <td>LÃ?Â¼bbe</td>\n",
              "    </tr>\n",
              "  </tbody>\n",
              "</table>\n",
              "<p>10000 rows × 5 columns</p>\n",
              "</div>"
            ],
            "text/plain": [
              "       Book-ISBN  ...              Book-Publisher\n",
              "0     0195153448  ...     Oxford University Press\n",
              "1     0002005018  ...       HarperFlamingo Canada\n",
              "2     0060973129  ...             HarperPerennial\n",
              "3     0374157065  ...        Farrar Straus Giroux\n",
              "4     0393045218  ...  W. W. Norton &amp; Company\n",
              "...          ...  ...                         ...\n",
              "9995  0380730774  ...              William Morrow\n",
              "9996  0862418879  ...             Canongate Books\n",
              "9997  340414645X  ...                    LÃ?Â¼bbe\n",
              "9998  3442730988  ...                         btb\n",
              "9999  3404144783  ...                    LÃ?Â¼bbe\n",
              "\n",
              "[10000 rows x 5 columns]"
            ]
          },
          "metadata": {},
          "execution_count": 46
        }
      ]
    },
    {
      "cell_type": "markdown",
      "metadata": {
        "id": "tZVscoCmMlm0"
      },
      "source": [
        "\n",
        "\n",
        "---\n",
        "\n"
      ]
    },
    {
      "cell_type": "markdown",
      "metadata": {
        "id": "aMUIkEBRMmzc"
      },
      "source": [
        "# Modeling and Result"
      ]
    },
    {
      "cell_type": "markdown",
      "metadata": {
        "id": "KOp7n6UOQINy"
      },
      "source": [
        "Pada Content Based Filtering, akan menggunakan algoritma TF-IDF Vectorizer untuk membangun sistem rekomendasi berdasarkan penulis buku. TF-IDF yang memiliki fungsi untuk mengukur seberapa pentingnya suatu kata terhadap kata-kata lain dalam dokumen. Secara umum, algoritma akan menghitung skor untuk setiap kata untuk menandakan pentingnya dalam dokumen dan corpus. Metode ini juga sering digunakan dalam Information Retrieval dan Text Mining."
      ]
    },
    {
      "cell_type": "code",
      "metadata": {
        "id": "iNmPsM3VGEEe",
        "colab": {
          "base_uri": "https://localhost:8080/"
        },
        "outputId": "c43727ce-4c4c-45c8-eb83-4f3d6f0f1cdd"
      },
      "source": [
        "from sklearn.feature_extraction.text import TfidfVectorizer\n",
        " \n",
        "tf = TfidfVectorizer()\n",
        " \n",
        "tf.fit(books_new['Book-Author']) \n",
        " \n",
        "tf.get_feature_names()"
      ],
      "execution_count": 47,
      "outputs": [
        {
          "output_type": "execute_result",
          "data": {
            "text/plain": [
              "['aaron',\n",
              " 'aarsen',\n",
              " 'abbey',\n",
              " 'abbott',\n",
              " 'abby',\n",
              " 'abelar',\n",
              " 'abraham',\n",
              " 'abrahams',\n",
              " 'abzug',\n",
              " 'achebe',\n",
              " 'ackerman',\n",
              " 'ackroyd',\n",
              " 'ad',\n",
              " 'adam',\n",
              " 'adamo',\n",
              " 'adams',\n",
              " 'adamson',\n",
              " 'addis',\n",
              " 'adele',\n",
              " 'adeline',\n",
              " 'adie',\n",
              " 'adkins',\n",
              " 'adler',\n",
              " 'adrian',\n",
              " 'adriana',\n",
              " 'adrienne',\n",
              " 'africa',\n",
              " 'agatha',\n",
              " 'agnes',\n",
              " 'aguiar',\n",
              " 'agustã',\n",
              " 'agut',\n",
              " 'ahdaf',\n",
              " 'ahlberg',\n",
              " 'ahne',\n",
              " 'aidan',\n",
              " 'aiden',\n",
              " 'aiken',\n",
              " 'aileen',\n",
              " 'aimee',\n",
              " 'ainslie',\n",
              " 'akiba',\n",
              " 'al',\n",
              " 'alain',\n",
              " 'alan',\n",
              " 'alatas',\n",
              " 'alba',\n",
              " 'albanese',\n",
              " 'albano',\n",
              " 'albert',\n",
              " 'alberts',\n",
              " 'albom',\n",
              " 'albright',\n",
              " 'alcock',\n",
              " 'alcorn',\n",
              " 'alcott',\n",
              " 'aldiss',\n",
              " 'aldous',\n",
              " 'aldrich',\n",
              " 'aldrin',\n",
              " 'alec',\n",
              " 'aleister',\n",
              " 'alejandro',\n",
              " 'alejo',\n",
              " 'aleksandr',\n",
              " 'aleramo',\n",
              " 'alers',\n",
              " 'alesia',\n",
              " 'alessandra',\n",
              " 'alessandro',\n",
              " 'alex',\n",
              " 'alexa',\n",
              " 'alexander',\n",
              " 'alexandra',\n",
              " 'alexandre',\n",
              " 'alfie',\n",
              " 'alfonsi',\n",
              " 'alford',\n",
              " 'alfred',\n",
              " 'ali',\n",
              " 'alice',\n",
              " 'alicia',\n",
              " 'alien',\n",
              " 'alighieri',\n",
              " 'alisa',\n",
              " 'alison',\n",
              " 'alistair',\n",
              " 'alix',\n",
              " 'aljean',\n",
              " 'allan',\n",
              " 'allen',\n",
              " 'allenbaugh',\n",
              " 'allende',\n",
              " 'allingham',\n",
              " 'allison',\n",
              " 'allistair',\n",
              " 'allston',\n",
              " 'alma',\n",
              " 'almond',\n",
              " 'almudena',\n",
              " 'alonso',\n",
              " 'alpers',\n",
              " 'alsager',\n",
              " 'alten',\n",
              " 'alter',\n",
              " 'alton',\n",
              " 'alvarez',\n",
              " 'alvin',\n",
              " 'amado',\n",
              " 'amanda',\n",
              " 'amber',\n",
              " 'ambrose',\n",
              " 'ambrosio',\n",
              " 'amelie',\n",
              " 'american',\n",
              " 'ames',\n",
              " 'amin',\n",
              " 'amis',\n",
              " 'amit',\n",
              " 'ammaniti',\n",
              " 'amoroso',\n",
              " 'amory',\n",
              " 'amos',\n",
              " 'amour',\n",
              " 'amp',\n",
              " 'amy',\n",
              " 'an',\n",
              " 'ana',\n",
              " 'anahis',\n",
              " 'anais',\n",
              " 'anand',\n",
              " 'anastas',\n",
              " 'anatoli',\n",
              " 'anatolian',\n",
              " 'anaya',\n",
              " 'anchee',\n",
              " 'ancona',\n",
              " 'and',\n",
              " 'andahazi',\n",
              " 'andersen',\n",
              " 'anderson',\n",
              " 'andre',\n",
              " 'andrea',\n",
              " 'andreas',\n",
              " 'andrei',\n",
              " 'andrew',\n",
              " 'andrews',\n",
              " 'andreã',\n",
              " 'andy',\n",
              " 'angela',\n",
              " 'angelis',\n",
              " 'angell',\n",
              " 'angelo',\n",
              " 'angelou',\n",
              " 'angier',\n",
              " 'angle',\n",
              " 'angot',\n",
              " 'anhua',\n",
              " 'ani',\n",
              " 'anim',\n",
              " 'anita',\n",
              " 'ann',\n",
              " 'anna',\n",
              " 'annaeus',\n",
              " 'anne',\n",
              " 'annegrit',\n",
              " 'annette',\n",
              " 'annie',\n",
              " 'anonimo',\n",
              " 'anonymous',\n",
              " 'anouchka',\n",
              " 'ansay',\n",
              " 'ansel',\n",
              " 'anshaw',\n",
              " 'anson',\n",
              " 'anthony',\n",
              " 'anthropology',\n",
              " 'antoine',\n",
              " 'anton',\n",
              " 'antoni',\n",
              " 'antonio',\n",
              " 'antony',\n",
              " 'antonya',\n",
              " 'antwone',\n",
              " 'anurag',\n",
              " 'aola',\n",
              " 'aoumiel',\n",
              " 'apkarian',\n",
              " 'apolo',\n",
              " 'appel',\n",
              " 'applegate',\n",
              " 'appleton',\n",
              " 'april',\n",
              " 'arabella',\n",
              " 'aralica',\n",
              " 'aramburu',\n",
              " 'arana',\n",
              " 'archaeology',\n",
              " 'archer',\n",
              " 'arcy',\n",
              " 'ardagh',\n",
              " 'ardinger',\n",
              " 'arens',\n",
              " 'arensen',\n",
              " 'ariella',\n",
              " 'arlene',\n",
              " 'arman',\n",
              " 'armas',\n",
              " 'armistead',\n",
              " 'armstrong',\n",
              " 'arnel',\n",
              " 'arnette',\n",
              " 'arnim',\n",
              " 'arno',\n",
              " 'arnold',\n",
              " 'arnulf',\n",
              " 'arrabal',\n",
              " 'arriaga',\n",
              " 'arsan',\n",
              " 'arthur',\n",
              " 'arto',\n",
              " 'arturo',\n",
              " 'arundhati',\n",
              " 'arvin',\n",
              " 'ascarrunz',\n",
              " 'ash',\n",
              " 'ashfield',\n",
              " 'ashland',\n",
              " 'ashley',\n",
              " 'asimov',\n",
              " 'asprin',\n",
              " 'association',\n",
              " 'assorted',\n",
              " 'astley',\n",
              " 'astrid',\n",
              " 'atcott',\n",
              " 'ath',\n",
              " 'atkins',\n",
              " 'atkinson',\n",
              " 'atrice',\n",
              " 'attanasio',\n",
              " 'atul',\n",
              " 'atwater',\n",
              " 'atwood',\n",
              " 'aubert',\n",
              " 'audrey',\n",
              " 'auel',\n",
              " 'august',\n",
              " 'augusten',\n",
              " 'augustine',\n",
              " 'augusto',\n",
              " 'aulaire',\n",
              " 'aurelia',\n",
              " 'austen',\n",
              " 'auster',\n",
              " 'austin',\n",
              " 'authors',\n",
              " 'avery',\n",
              " 'avi',\n",
              " 'awlinson',\n",
              " 'axford',\n",
              " 'ayn',\n",
              " 'ayto',\n",
              " 'az',\n",
              " 'azar',\n",
              " 'azerrad',\n",
              " 'azuela',\n",
              " 'babel',\n",
              " 'babette',\n",
              " 'babson',\n",
              " 'bach',\n",
              " 'bachman',\n",
              " 'backer',\n",
              " 'baden',\n",
              " 'baetz',\n",
              " 'baez',\n",
              " 'bagdon',\n",
              " 'baggott',\n",
              " 'baglio',\n",
              " 'bagshawe',\n",
              " 'baigent',\n",
              " 'bail',\n",
              " 'bailey',\n",
              " 'bainbridge',\n",
              " 'baker',\n",
              " 'bakis',\n",
              " 'bakker',\n",
              " 'baldacci',\n",
              " 'balke',\n",
              " 'ballantyne',\n",
              " 'balliett',\n",
              " 'balzac',\n",
              " 'ban',\n",
              " 'banana',\n",
              " 'banbury',\n",
              " 'banerjee',\n",
              " 'bank',\n",
              " 'banks',\n",
              " 'bannon',\n",
              " 'bantock',\n",
              " 'bao',\n",
              " 'baratz',\n",
              " 'barb',\n",
              " 'barbara',\n",
              " 'barber',\n",
              " 'barca',\n",
              " 'barcelo',\n",
              " 'barclay',\n",
              " 'barden',\n",
              " 'bari',\n",
              " 'baricco',\n",
              " 'barjavel',\n",
              " 'barker',\n",
              " 'barks',\n",
              " 'barley',\n",
              " 'barlow',\n",
              " 'barnard',\n",
              " 'barnes',\n",
              " 'barone',\n",
              " 'barr',\n",
              " 'barrett',\n",
              " 'barrie',\n",
              " 'barris',\n",
              " 'barron',\n",
              " 'barrow',\n",
              " 'barry',\n",
              " 'barrymore',\n",
              " 'bartholomew',\n",
              " 'bartoletti',\n",
              " 'bascom',\n",
              " 'bashevis',\n",
              " 'bateman',\n",
              " 'bates',\n",
              " 'bathurst',\n",
              " 'battle',\n",
              " 'batz',\n",
              " 'bauby',\n",
              " 'baudelaire',\n",
              " 'baudino',\n",
              " 'baudrillard',\n",
              " 'bauer',\n",
              " 'bausch',\n",
              " 'baxt',\n",
              " 'baxter',\n",
              " 'bayley',\n",
              " 'bayly',\n",
              " 'beach',\n",
              " 'beagle',\n",
              " 'beale',\n",
              " 'beam',\n",
              " 'beamer',\n",
              " 'bear',\n",
              " 'beard',\n",
              " 'beasant',\n",
              " 'beatles',\n",
              " 'beaton',\n",
              " 'beatrice',\n",
              " 'beattie',\n",
              " 'beauman',\n",
              " 'beaumont',\n",
              " 'bebe',\n",
              " 'bebris',\n",
              " 'beck',\n",
              " 'becker',\n",
              " 'bedier',\n",
              " 'beer',\n",
              " 'begley',\n",
              " 'behrend',\n",
              " 'beigbeder',\n",
              " 'bejar',\n",
              " 'bel',\n",
              " 'belinda',\n",
              " 'bell',\n",
              " 'bella',\n",
              " 'bellacera',\n",
              " 'bellairs',\n",
              " 'belle',\n",
              " 'belli',\n",
              " 'bello',\n",
              " 'bellow',\n",
              " 'belva',\n",
              " 'belz',\n",
              " 'belzer',\n",
              " 'beman',\n",
              " 'ben',\n",
              " 'benacquista',\n",
              " 'benard',\n",
              " 'benchley',\n",
              " 'bender',\n",
              " 'benedetti',\n",
              " 'benedict',\n",
              " 'benjamin',\n",
              " 'bennett',\n",
              " 'benni',\n",
              " 'benning',\n",
              " 'bennis',\n",
              " 'benshea',\n",
              " 'benton',\n",
              " 'berendt',\n",
              " 'berenstain',\n",
              " 'beres',\n",
              " 'berg',\n",
              " 'bergen',\n",
              " 'berger',\n",
              " 'bergerac',\n",
              " 'bergin',\n",
              " 'bergmann',\n",
              " 'bergonzoni',\n",
              " 'bergren',\n",
              " 'berhard',\n",
              " 'berke',\n",
              " 'berkeley',\n",
              " 'berliner',\n",
              " 'berling',\n",
              " 'berlinski',\n",
              " 'bernall',\n",
              " 'bernard',\n",
              " 'bernhard',\n",
              " 'bernhardt',\n",
              " 'bernie',\n",
              " 'bernieres',\n",
              " 'bernstein',\n",
              " 'bernstien',\n",
              " 'bernyce',\n",
              " 'berra',\n",
              " 'berrenson',\n",
              " 'berriault',\n",
              " 'berry',\n",
              " 'bert',\n",
              " 'berton',\n",
              " 'bertram',\n",
              " 'bertrice',\n",
              " 'beryl',\n",
              " 'bester',\n",
              " 'beth',\n",
              " 'bethards',\n",
              " 'betina',\n",
              " 'betsy',\n",
              " 'bett',\n",
              " 'bettany',\n",
              " 'bette',\n",
              " 'better',\n",
              " 'bettin',\n",
              " 'bettine',\n",
              " 'betty',\n",
              " 'bettyclare',\n",
              " 'bevarly',\n",
              " 'beverley',\n",
              " 'beverly',\n",
              " 'bhaktivedanta',\n",
              " 'bianchin',\n",
              " 'bichler',\n",
              " 'biederman',\n",
              " 'bieg',\n",
              " 'biehl',\n",
              " 'bierce',\n",
              " 'biermann',\n",
              " 'bigelow',\n",
              " 'bill',\n",
              " 'billie',\n",
              " 'billington',\n",
              " 'billy',\n",
              " 'binchy',\n",
              " 'bing',\n",
              " 'bingham',\n",
              " 'binnie',\n",
              " 'bird',\n",
              " 'birgit',\n",
              " 'birmingham',\n",
              " 'bischoff',\n",
              " 'bishop',\n",
              " 'bj',\n",
              " 'black',\n",
              " 'blackaby',\n",
              " 'blackman',\n",
              " 'blackmarr',\n",
              " 'blackstock',\n",
              " 'blackwood',\n",
              " 'blair',\n",
              " 'blake',\n",
              " 'blanc',\n",
              " 'blanchard',\n",
              " 'blanche',\n",
              " 'bledsoe',\n",
              " 'blexley',\n",
              " 'blish',\n",
              " 'bliss',\n",
              " 'blissett',\n",
              " 'bloch',\n",
              " 'block',\n",
              " 'blockson',\n",
              " 'blofeld',\n",
              " 'blount',\n",
              " 'blow',\n",
              " 'blu',\n",
              " 'blue',\n",
              " 'bluh',\n",
              " 'blum',\n",
              " 'blume',\n",
              " 'blundell',\n",
              " 'blunt',\n",
              " 'bly',\n",
              " 'blyton',\n",
              " 'bo',\n",
              " 'bob',\n",
              " 'bobbie',\n",
              " 'bobin',\n",
              " 'bobrick',\n",
              " 'bobrowski',\n",
              " 'bochco',\n",
              " 'bodie',\n",
              " 'boese',\n",
              " 'boeshaar',\n",
              " 'bohjalian',\n",
              " 'bohringer',\n",
              " 'boie',\n",
              " 'boldman',\n",
              " 'bolger',\n",
              " 'bolitho',\n",
              " 'boll',\n",
              " 'bolles',\n",
              " 'bolton',\n",
              " 'bombeck',\n",
              " 'bond',\n",
              " 'bondeson',\n",
              " 'bonnefoy',\n",
              " 'bonner',\n",
              " 'bonnie',\n",
              " 'booher',\n",
              " 'booker',\n",
              " 'books',\n",
              " 'boom',\n",
              " 'booss',\n",
              " 'borchardt',\n",
              " 'borges',\n",
              " 'boris',\n",
              " 'borneman',\n",
              " 'borris',\n",
              " 'borthwick',\n",
              " 'boston',\n",
              " 'boswell',\n",
              " 'boteach',\n",
              " 'botho',\n",
              " 'botton',\n",
              " 'boukreev',\n",
              " 'boulton',\n",
              " 'bourdain',\n",
              " 'bouton',\n",
              " 'bova',\n",
              " 'bovard',\n",
              " 'bovee',\n",
              " 'bowden',\n",
              " 'bowen',\n",
              " 'bowering',\n",
              " 'bowes',\n",
              " 'bowie',\n",
              " 'bowles',\n",
              " 'bowman',\n",
              " 'boyd',\n",
              " 'boyer',\n",
              " 'boylan',\n",
              " 'boyle',\n",
              " 'boynton',\n",
              " 'braam',\n",
              " 'brad',\n",
              " 'bradbury',\n",
              " 'bradby',\n",
              " 'bradford',\n",
              " 'bradley',\n",
              " 'brady',\n",
              " 'bragg',\n",
              " 'bram',\n",
              " 'brancati',\n",
              " 'brand',\n",
              " 'brande',\n",
              " 'brandewyne',\n",
              " 'brandon',\n",
              " 'brandt',\n",
              " 'brant',\n",
              " 'brashares',\n",
              " 'brashear',\n",
              " 'brassey',\n",
              " 'brate',\n",
              " 'braun',\n",
              " 'brave',\n",
              " 'braver',\n",
              " 'bray',\n",
              " 'braynard',\n",
              " 'brazelton',\n",
              " 'breathed',\n",
              " 'breathnach',\n",
              " 'breena',\n",
              " 'brehony',\n",
              " 'breinholst',\n",
              " 'brem',\n",
              " 'brenda',\n",
              " 'brennan',\n",
              " 'breslin',\n",
              " 'bret',\n",
              " 'breton',\n",
              " 'brett',\n",
              " 'bretton',\n",
              " 'brewster',\n",
              " 'brez',\n",
              " 'brian',\n",
              " 'bricklin',\n",
              " 'bridwell',\n",
              " 'brien',\n",
              " 'brightfield',\n",
              " 'brigitte',\n",
              " 'brin',\n",
              " 'brindle',\n",
              " 'brindley',\n",
              " 'brink',\n",
              " 'british',\n",
              " 'brittain',\n",
              " 'britton',\n",
              " 'brizzi',\n",
              " 'broadrick',\n",
              " 'brockmann',\n",
              " 'brod',\n",
              " 'broder',\n",
              " 'bronski',\n",
              " 'bronte',\n",
              " 'bronwyn',\n",
              " 'brooke',\n",
              " 'brookner',\n",
              " 'brooks',\n",
              " 'brother',\n",
              " 'brothers',\n",
              " 'brouwer',\n",
              " 'brower',\n",
              " 'brown',\n",
              " 'browne',\n",
              " 'browning',\n",
              " 'brownmiller',\n",
              " 'broyard',\n",
              " 'bruce',\n",
              " 'brumberg',\n",
              " 'brunhoff',\n",
              " 'bruno',\n",
              " 'brussig',\n",
              " 'bryan',\n",
              " 'bryant',\n",
              " 'bryce',\n",
              " 'bryn',\n",
              " 'bryson',\n",
              " 'bstan',\n",
              " 'buarque',\n",
              " 'buber',\n",
              " 'bucay',\n",
              " 'buchanan',\n",
              " 'buck',\n",
              " 'buckey',\n",
              " 'buckland',\n",
              " 'buckley',\n",
              " 'bucklin',\n",
              " 'buechner',\n",
              " 'buerge',\n",
              " 'buff',\n",
              " 'buffett',\n",
              " 'buford',\n",
              " 'bugliosi',\n",
              " 'bujold',\n",
              " 'bukowski',\n",
              " 'bulgakov',\n",
              " 'bull',\n",
              " 'bullard',\n",
              " 'bullock',\n",
              " 'bulychev',\n",
              " 'bundles',\n",
              " 'bunker',\n",
              " 'bunkie',\n",
              " 'bunson',\n",
              " 'burana',\n",
              " 'burdekin',\n",
              " 'buresh',\n",
              " 'burgess',\n",
              " 'burgett',\n",
              " 'burka',\n",
              " 'burkart',\n",
              " 'burke',\n",
              " 'burkett',\n",
              " 'burnett',\n",
              " 'burns',\n",
              " 'burroughs',\n",
              " 'burstein',\n",
              " 'burt',\n",
              " 'burton',\n",
              " 'busbee',\n",
              " 'buscaglia',\n",
              " 'busch',\n",
              " 'bushnell',\n",
              " 'buske',\n",
              " 'buss',\n",
              " 'butcher',\n",
              " 'butler',\n",
              " 'butterworth',\n",
              " 'buxton',\n",
              " 'buzan',\n",
              " 'buzimski',\n",
              " 'buzz',\n",
              " 'by',\n",
              " 'byars',\n",
              " 'byatt',\n",
              " 'byerrum',\n",
              " 'byron',\n",
              " 'bã',\n",
              " 'cable',\n",
              " 'cabot',\n",
              " 'cabrera',\n",
              " 'cacek',\n",
              " 'caduto',\n",
              " 'caeia',\n",
              " 'caela',\n",
              " 'cafi',\n",
              " 'cahill',\n",
              " 'caignon',\n",
              " 'cain',\n",
              " 'caiseal',\n",
              " 'cait',\n",
              " 'caitlin',\n",
              " 'calasso',\n",
              " 'calcutt',\n",
              " 'calder',\n",
              " 'calderã³n',\n",
              " 'caldwell',\n",
              " 'caleb',\n",
              " 'callery',\n",
              " 'callwood',\n",
              " 'calvin',\n",
              " 'calvino',\n",
              " 'camara',\n",
              " 'cameron',\n",
              " 'camilla',\n",
              " 'camille',\n",
              " 'camilleri',\n",
              " 'camilo',\n",
              " 'camp',\n",
              " 'campbell',\n",
              " 'campos',\n",
              " 'camus',\n",
              " 'cana',\n",
              " 'candace',\n",
              " 'candice',\n",
              " 'canfield',\n",
              " 'canham',\n",
              " 'cannell',\n",
              " 'cantwell',\n",
              " 'capote',\n",
              " 'capra',\n",
              " 'captain',\n",
              " 'capus',\n",
              " 'capuzzo',\n",
              " 'capã³',\n",
              " 'cara',\n",
              " 'caras',\n",
              " 'carcaterra',\n",
              " 'card',\n",
              " 'care',\n",
              " 'caren',\n",
              " 'carey',\n",
              " 'carl',\n",
              " 'carle',\n",
              " 'carlene',\n",
              " 'carlin',\n",
              " 'carlisle',\n",
              " 'carlo',\n",
              " 'carlos',\n",
              " 'carlson',\n",
              " 'carlton',\n",
              " 'carly',\n",
              " 'carlysle',\n",
              " 'carme',\n",
              " 'carmen',\n",
              " 'carmichael',\n",
              " 'carnegie',\n",
              " 'carnes',\n",
              " 'carol',\n",
              " 'carole',\n",
              " 'carolee',\n",
              " 'caroline',\n",
              " 'carolly',\n",
              " 'carolyn',\n",
              " 'carolyne',\n",
              " 'carpenter',\n",
              " 'carpentier',\n",
              " 'carr',\n",
              " 'carre',\n",
              " 'carrie',\n",
              " 'carroll',\n",
              " 'carrã',\n",
              " 'carson',\n",
              " 'carter',\n",
              " 'carus',\n",
              " 'carvalho',\n",
              " 'carver',\n",
              " 'cary',\n",
              " 'case',\n",
              " 'casey',\n",
              " 'cash',\n",
              " 'cashwell',\n",
              " 'casper',\n",
              " 'cassandra',\n",
              " 'cassie',\n",
              " 'cast',\n",
              " 'castaneda',\n",
              " 'castedo',\n",
              " 'castillo',\n",
              " 'castle',\n",
              " 'catalano',\n",
              " 'catalã',\n",
              " 'catharina',\n",
              " 'cather',\n",
              " 'catherine',\n",
              " 'cathi',\n",
              " 'cathie',\n",
              " 'cathleen',\n",
              " 'catholic',\n",
              " 'cathy',\n",
              " 'catling',\n",
              " 'catton',\n",
              " 'caudwell',\n",
              " 'cauti',\n",
              " 'cauwelaert',\n",
              " 'cdr',\n",
              " 'cecchio',\n",
              " 'cecil',\n",
              " 'cees',\n",
              " 'ceil',\n",
              " 'cela',\n",
              " 'celeste',\n",
              " 'celia',\n",
              " 'cercas',\n",
              " 'ceren',\n",
              " 'cervantes',\n",
              " 'cesare',\n",
              " 'cesco',\n",
              " 'cha',\n",
              " 'chabon',\n",
              " 'chaim',\n",
              " 'chalker',\n",
              " 'chamberlain',\n",
              " 'chambers',\n",
              " 'chandler',\n",
              " 'chandra',\n",
              " 'chang',\n",
              " 'chao',\n",
              " 'chapman',\n",
              " 'chappell',\n",
              " 'charlaine',\n",
              " 'charles',\n",
              " 'charlotte',\n",
              " 'charrette',\n",
              " 'chartrand',\n",
              " 'chase',\n",
              " 'chatani',\n",
              " 'chatwin',\n",
              " 'chaucer',\n",
              " 'chaudhuri',\n",
              " 'chauncey',\n",
              " 'chbosky',\n",
              " 'chelsea',\n",
              " 'cheng',\n",
              " 'cherie',\n",
              " 'cherrie',\n",
              " 'cherryh',\n",
              " 'cheryl',\n",
              " 'chesterton',\n",
              " 'chet',\n",
              " 'chevalier',\n",
              " 'chew',\n",
              " 'chiaverini',\n",
              " 'chichester',\n",
              " 'chico',\n",
              " 'child',\n",
              " 'childress',\n",
              " 'childs',\n",
              " 'chin',\n",
              " 'china',\n",
              " 'chinua',\n",
              " 'chip',\n",
              " 'chipman',\n",
              " 'chitra',\n",
              " 'chodron',\n",
              " 'cholfin',\n",
              " 'chopin',\n",
              " 'chopra',\n",
              " 'chris',\n",
              " 'christa',\n",
              " 'christelow',\n",
              " 'christenberry',\n",
              " 'christian',\n",
              " 'christiane',\n",
              " 'christie',\n",
              " 'christina',\n",
              " 'christine',\n",
              " 'christof',\n",
              " 'christofferson',\n",
              " 'christoph',\n",
              " 'christophe',\n",
              " 'christopher',\n",
              " 'christy',\n",
              " 'chrstine',\n",
              " 'chu',\n",
              " 'chuck',\n",
              " 'chuen',\n",
              " 'chun',\n",
              " 'chunder',\n",
              " 'chunovic',\n",
              " 'church',\n",
              " 'churchill',\n",
              " 'chute',\n",
              " 'ciencin',\n",
              " 'cieza',\n",
              " 'cinammon',\n",
              " 'cindy',\n",
              " 'ciresi',\n",
              " 'cirker',\n",
              " 'cisneros',\n",
              " 'civil',\n",
              " 'cker',\n",
              " 'claiborne',\n",
              " 'clairday',\n",
              " 'claire',\n",
              " 'clancy',\n",
              " 'clara',\n",
              " 'clare',\n",
              " 'clarissa',\n",
              " 'clark',\n",
              " 'clarke',\n",
              " 'claude',\n",
              " 'claudia',\n",
              " 'claudio',\n",
              " 'clav',\n",
              " 'clavell',\n",
              " 'clay',\n",
              " 'claybourne',\n",
              " 'clayton',\n",
              " 'cleage',\n",
              " 'cleary',\n",
              " 'cleaver',\n",
              " 'clegg',\n",
              " 'clement',\n",
              " 'clements',\n",
              " 'cleveland',\n",
              " 'clews',\n",
              " 'clifford',\n",
              " 'clifton',\n",
              " 'clive',\n",
              " 'cloutier',\n",
              " 'clover',\n",
              " 'clowes',\n",
              " 'clyde',\n",
              " 'clã',\n",
              " 'co',\n",
              " 'coady',\n",
              " 'cobb',\n",
              " 'coben',\n",
              " 'cochran',\n",
              " 'cocquyt',\n",
              " 'coddington',\n",
              " 'codell',\n",
              " 'codrescu',\n",
              " 'coelho',\n",
              " 'coen',\n",
              " 'coerr',\n",
              " 'coetzee',\n",
              " 'coffman',\n",
              " 'cohen',\n",
              " 'cohn',\n",
              " 'cokie',\n",
              " 'colapinto',\n",
              " 'cole',\n",
              " 'coleman',\n",
              " 'coleridge',\n",
              " 'coles',\n",
              " 'colette',\n",
              " 'colfer',\n",
              " 'colgan',\n",
              " 'colin',\n",
              " 'coll',\n",
              " 'collange',\n",
              " 'collard',\n",
              " 'collectif',\n",
              " 'colleen',\n",
              " 'college',\n",
              " 'collier',\n",
              " 'collin',\n",
              " 'colling',\n",
              " 'collins',\n",
              " 'collodi',\n",
              " 'colm',\n",
              " 'colombo',\n",
              " 'colum',\n",
              " 'company',\n",
              " 'compton',\n",
              " 'conan',\n",
              " 'conant',\n",
              " 'conari',\n",
              " ...]"
            ]
          },
          "metadata": {},
          "execution_count": 47
        }
      ]
    },
    {
      "cell_type": "markdown",
      "metadata": {
        "id": "07I1NgWBQ4yi"
      },
      "source": [
        "Tahap selanjutnya akan melakukan fit dan transformasi ke dalam matriks tfidf_matrix."
      ]
    },
    {
      "cell_type": "code",
      "metadata": {
        "id": "fLt-ycFePTWS",
        "colab": {
          "base_uri": "https://localhost:8080/"
        },
        "outputId": "8503a04d-fce9-454f-b496-028539ee0e59"
      },
      "source": [
        "tfidf_matrix = tf.fit_transform(books_new['Book-Author']) \n",
        " \n",
        "tfidf_matrix.shape"
      ],
      "execution_count": 49,
      "outputs": [
        {
          "output_type": "execute_result",
          "data": {
            "text/plain": [
              "(10000, 5575)"
            ]
          },
          "metadata": {},
          "execution_count": 49
        }
      ]
    },
    {
      "cell_type": "markdown",
      "metadata": {
        "id": "WZK0BSLbRNiT"
      },
      "source": [
        "Dapat dilihat bahwa, hasil dari transformasi tfidf_matrix terdapat 10000 ukuran data dan 5575 nama penulis buku."
      ]
    },
    {
      "cell_type": "markdown",
      "metadata": {
        "id": "Ck9Al9XkRZ5D"
      },
      "source": [
        "Selanjutnya saya akan menggunakan fungsi todense(), untuk menghasilkan vektor tf-idf dalam bentuk matriks"
      ]
    },
    {
      "cell_type": "code",
      "metadata": {
        "id": "2cyxpM1XRvtr",
        "colab": {
          "base_uri": "https://localhost:8080/"
        },
        "outputId": "f9487ac4-5f45-42f7-a772-a610a79df7d1"
      },
      "source": [
        "tfidf_matrix.todense()"
      ],
      "execution_count": 55,
      "outputs": [
        {
          "output_type": "execute_result",
          "data": {
            "text/plain": [
              "matrix([[0., 0., 0., ..., 0., 0., 0.],\n",
              "        [0., 0., 0., ..., 0., 0., 0.],\n",
              "        [0., 0., 0., ..., 0., 0., 0.],\n",
              "        ...,\n",
              "        [0., 0., 0., ..., 0., 0., 0.],\n",
              "        [0., 0., 0., ..., 0., 0., 0.],\n",
              "        [0., 0., 0., ..., 0., 0., 0.]])"
            ]
          },
          "metadata": {},
          "execution_count": 55
        }
      ]
    },
    {
      "cell_type": "markdown",
      "metadata": {
        "id": "pTXYHKNySAtr"
      },
      "source": [
        "Dataframe di bawah ini digunakan untuk melihat hasil matriks dari judul buku dengan penulis buku."
      ]
    },
    {
      "cell_type": "code",
      "metadata": {
        "id": "roFiKkXDSGsm",
        "colab": {
          "base_uri": "https://localhost:8080/",
          "height": 407
        },
        "outputId": "fd4a0d7b-b635-4f4f-be61-bb67301f869f"
      },
      "source": [
        "pd.DataFrame(\n",
        "    tfidf_matrix.todense(), \n",
        "    columns = tf.get_feature_names(),\n",
        "    index = books_new['Book-Title']\n",
        ").sample(10, axis=1,replace=True).sample(10, axis=0)"
      ],
      "execution_count": 59,
      "outputs": [
        {
          "output_type": "execute_result",
          "data": {
            "text/html": [
              "<div>\n",
              "<style scoped>\n",
              "    .dataframe tbody tr th:only-of-type {\n",
              "        vertical-align: middle;\n",
              "    }\n",
              "\n",
              "    .dataframe tbody tr th {\n",
              "        vertical-align: top;\n",
              "    }\n",
              "\n",
              "    .dataframe thead th {\n",
              "        text-align: right;\n",
              "    }\n",
              "</style>\n",
              "<table border=\"1\" class=\"dataframe\">\n",
              "  <thead>\n",
              "    <tr style=\"text-align: right;\">\n",
              "      <th></th>\n",
              "      <th>pã</th>\n",
              "      <th>pennac</th>\n",
              "      <th>scarfe</th>\n",
              "      <th>peretti</th>\n",
              "      <th>alien</th>\n",
              "      <th>matthews</th>\n",
              "      <th>sassoon</th>\n",
              "      <th>masahiro</th>\n",
              "      <th>callwood</th>\n",
              "      <th>iles</th>\n",
              "    </tr>\n",
              "    <tr>\n",
              "      <th>Book-Title</th>\n",
              "      <th></th>\n",
              "      <th></th>\n",
              "      <th></th>\n",
              "      <th></th>\n",
              "      <th></th>\n",
              "      <th></th>\n",
              "      <th></th>\n",
              "      <th></th>\n",
              "      <th></th>\n",
              "      <th></th>\n",
              "    </tr>\n",
              "  </thead>\n",
              "  <tbody>\n",
              "    <tr>\n",
              "      <th>The Church of Dead Girls</th>\n",
              "      <td>0.0</td>\n",
              "      <td>0.0</td>\n",
              "      <td>0.0</td>\n",
              "      <td>0.0</td>\n",
              "      <td>0.0</td>\n",
              "      <td>0.0</td>\n",
              "      <td>0.0</td>\n",
              "      <td>0.0</td>\n",
              "      <td>0.0</td>\n",
              "      <td>0.0</td>\n",
              "    </tr>\n",
              "    <tr>\n",
              "      <th>The First Immortal</th>\n",
              "      <td>0.0</td>\n",
              "      <td>0.0</td>\n",
              "      <td>0.0</td>\n",
              "      <td>0.0</td>\n",
              "      <td>0.0</td>\n",
              "      <td>0.0</td>\n",
              "      <td>0.0</td>\n",
              "      <td>0.0</td>\n",
              "      <td>0.0</td>\n",
              "      <td>0.0</td>\n",
              "    </tr>\n",
              "    <tr>\n",
              "      <th>The Green Mile: Coffey's Hands (Green Mile Series)</th>\n",
              "      <td>0.0</td>\n",
              "      <td>0.0</td>\n",
              "      <td>0.0</td>\n",
              "      <td>0.0</td>\n",
              "      <td>0.0</td>\n",
              "      <td>0.0</td>\n",
              "      <td>0.0</td>\n",
              "      <td>0.0</td>\n",
              "      <td>0.0</td>\n",
              "      <td>0.0</td>\n",
              "    </tr>\n",
              "    <tr>\n",
              "      <th>Hunchback of Notre Dame</th>\n",
              "      <td>0.0</td>\n",
              "      <td>0.0</td>\n",
              "      <td>0.0</td>\n",
              "      <td>0.0</td>\n",
              "      <td>0.0</td>\n",
              "      <td>0.0</td>\n",
              "      <td>0.0</td>\n",
              "      <td>0.0</td>\n",
              "      <td>0.0</td>\n",
              "      <td>0.0</td>\n",
              "    </tr>\n",
              "    <tr>\n",
              "      <th>Restoring the American Dream</th>\n",
              "      <td>0.0</td>\n",
              "      <td>0.0</td>\n",
              "      <td>0.0</td>\n",
              "      <td>0.0</td>\n",
              "      <td>0.0</td>\n",
              "      <td>0.0</td>\n",
              "      <td>0.0</td>\n",
              "      <td>0.0</td>\n",
              "      <td>0.0</td>\n",
              "      <td>0.0</td>\n",
              "    </tr>\n",
              "    <tr>\n",
              "      <th>BEGINNING ANEW</th>\n",
              "      <td>0.0</td>\n",
              "      <td>0.0</td>\n",
              "      <td>0.0</td>\n",
              "      <td>0.0</td>\n",
              "      <td>0.0</td>\n",
              "      <td>0.0</td>\n",
              "      <td>0.0</td>\n",
              "      <td>0.0</td>\n",
              "      <td>0.0</td>\n",
              "      <td>0.0</td>\n",
              "    </tr>\n",
              "    <tr>\n",
              "      <th>Triss (Redwall, Book 15)</th>\n",
              "      <td>0.0</td>\n",
              "      <td>0.0</td>\n",
              "      <td>0.0</td>\n",
              "      <td>0.0</td>\n",
              "      <td>0.0</td>\n",
              "      <td>0.0</td>\n",
              "      <td>0.0</td>\n",
              "      <td>0.0</td>\n",
              "      <td>0.0</td>\n",
              "      <td>0.0</td>\n",
              "    </tr>\n",
              "    <tr>\n",
              "      <th>Patriotic Murders</th>\n",
              "      <td>0.0</td>\n",
              "      <td>0.0</td>\n",
              "      <td>0.0</td>\n",
              "      <td>0.0</td>\n",
              "      <td>0.0</td>\n",
              "      <td>0.0</td>\n",
              "      <td>0.0</td>\n",
              "      <td>0.0</td>\n",
              "      <td>0.0</td>\n",
              "      <td>0.0</td>\n",
              "    </tr>\n",
              "    <tr>\n",
              "      <th>Sins of the Father (Buffy the Vampire Slayer)</th>\n",
              "      <td>0.0</td>\n",
              "      <td>0.0</td>\n",
              "      <td>0.0</td>\n",
              "      <td>0.0</td>\n",
              "      <td>0.0</td>\n",
              "      <td>0.0</td>\n",
              "      <td>0.0</td>\n",
              "      <td>0.0</td>\n",
              "      <td>0.0</td>\n",
              "      <td>0.0</td>\n",
              "    </tr>\n",
              "    <tr>\n",
              "      <th>Traveler (Wildside Romance)</th>\n",
              "      <td>0.0</td>\n",
              "      <td>0.0</td>\n",
              "      <td>0.0</td>\n",
              "      <td>0.0</td>\n",
              "      <td>0.0</td>\n",
              "      <td>0.0</td>\n",
              "      <td>0.0</td>\n",
              "      <td>0.0</td>\n",
              "      <td>0.0</td>\n",
              "      <td>0.0</td>\n",
              "    </tr>\n",
              "  </tbody>\n",
              "</table>\n",
              "</div>"
            ],
            "text/plain": [
              "                                                     pã  pennac  ...  callwood  iles\n",
              "Book-Title                                                       ...                \n",
              "The Church of Dead Girls                            0.0     0.0  ...       0.0   0.0\n",
              "The First Immortal                                  0.0     0.0  ...       0.0   0.0\n",
              "The Green Mile: Coffey's Hands (Green Mile Series)  0.0     0.0  ...       0.0   0.0\n",
              "Hunchback of Notre Dame                             0.0     0.0  ...       0.0   0.0\n",
              "Restoring the American Dream                        0.0     0.0  ...       0.0   0.0\n",
              "BEGINNING ANEW                                      0.0     0.0  ...       0.0   0.0\n",
              "Triss (Redwall, Book 15)                            0.0     0.0  ...       0.0   0.0\n",
              "Patriotic Murders                                   0.0     0.0  ...       0.0   0.0\n",
              "Sins of the Father (Buffy the Vampire Slayer)       0.0     0.0  ...       0.0   0.0\n",
              "Traveler (Wildside Romance)                         0.0     0.0  ...       0.0   0.0\n",
              "\n",
              "[10 rows x 10 columns]"
            ]
          },
          "metadata": {},
          "execution_count": 59
        }
      ]
    },
    {
      "cell_type": "markdown",
      "metadata": {
        "id": "eMDJ9cyNS-x5"
      },
      "source": [
        "Selanjutnya, saya akan menghitung derajat kesamaan (similarity degree) antar item yang direkomendasikan agar tidak terlalu jauh dari data pusat dengan teknik cosine similarity dari library sklearn."
      ]
    },
    {
      "cell_type": "code",
      "metadata": {
        "id": "FKi0GColTryh",
        "colab": {
          "base_uri": "https://localhost:8080/"
        },
        "outputId": "e430b224-d0d4-467b-cd39-60433af1f20e"
      },
      "source": [
        "from sklearn.metrics.pairwise import cosine_similarity\n",
        " \n",
        "cosine_sim = cosine_similarity(tfidf_matrix) \n",
        "cosine_sim"
      ],
      "execution_count": 60,
      "outputs": [
        {
          "output_type": "execute_result",
          "data": {
            "text/plain": [
              "array([[1., 0., 0., ..., 0., 0., 0.],\n",
              "       [0., 1., 0., ..., 0., 0., 0.],\n",
              "       [0., 0., 1., ..., 0., 0., 0.],\n",
              "       ...,\n",
              "       [0., 0., 0., ..., 1., 0., 0.],\n",
              "       [0., 0., 0., ..., 0., 1., 0.],\n",
              "       [0., 0., 0., ..., 0., 0., 1.]])"
            ]
          },
          "metadata": {},
          "execution_count": 60
        }
      ]
    },
    {
      "cell_type": "markdown",
      "metadata": {
        "id": "srH-iNXxTy6V"
      },
      "source": [
        "Dilanjutkan dengan membuat dataframe variabel cosine_sim_df dengan kolom berupa nama buku."
      ]
    },
    {
      "cell_type": "code",
      "metadata": {
        "id": "FW4bmodDTyAO"
      },
      "source": [
        "cosine_sim_df = pd.DataFrame(cosine_sim, index=books_new['Book-Title'], columns=books_new['Book-Title'])"
      ],
      "execution_count": 61,
      "outputs": []
    },
    {
      "cell_type": "markdown",
      "metadata": {
        "id": "iGyEDN9nXDON"
      },
      "source": [
        "Berikut adalah fungsi untuk mendapatkan hasil rekomendasi sebanyak 5 buku, dengan kesamaan atribut dari penulis buku.\n",
        "\n",
        "Atribut `argpartition` berguna untuk mengambil sejumlah nilai `k`, karena dalam fungsi menghasilkan sebanyak 5 rekomendasi tertinggi dari tingkat kesamaan yang berasal dari dataframe cosine_sim_df."
      ]
    },
    {
      "cell_type": "code",
      "metadata": {
        "id": "pXE8vZtTUZBM"
      },
      "source": [
        "def book_recommendations(title, similarity_data, items, k=5):\n",
        "    index = similarity_data.loc[:,title].to_numpy().argpartition(range(-1,-k,-1))\n",
        "    closest = similarity_data.columns[index[-1:-(k+2):-1]]\n",
        "    closest = closest.drop(title, errors='ignore')\n",
        "    return pd.DataFrame(closest).merge(items).head(k)"
      ],
      "execution_count": 139,
      "outputs": []
    },
    {
      "cell_type": "code",
      "metadata": {
        "colab": {
          "base_uri": "https://localhost:8080/"
        },
        "id": "1-c8CAQGGPt9",
        "outputId": "3700e774-e957-4e2e-b77f-689f21ccea54"
      },
      "source": [
        "# num = [1,2]\n",
        "# k = len(num)\n",
        "# for i in range(-1,-(k+1),-1):\n",
        "#   print(num[i])"
      ],
      "execution_count": 124,
      "outputs": [
        {
          "output_type": "stream",
          "name": "stdout",
          "text": [
            "2\n",
            "1\n"
          ]
        }
      ]
    },
    {
      "cell_type": "code",
      "metadata": {
        "id": "EDpdq2sl_Abx"
      },
      "source": [
        "# index = cosine_sim_df.loc[:,readed_book].to_numpy().argpartition(range(-1,-5,-1))"
      ],
      "execution_count": 80,
      "outputs": []
    },
    {
      "cell_type": "code",
      "metadata": {
        "id": "Jd2pZ9to_e8B"
      },
      "source": [
        "# closest = cosine_sim_df.columns[index[-1:-(5+2):-1]]"
      ],
      "execution_count": 83,
      "outputs": []
    },
    {
      "cell_type": "code",
      "metadata": {
        "colab": {
          "base_uri": "https://localhost:8080/"
        },
        "id": "-X1kvaTOBGHs",
        "outputId": "1e9f2145-986b-4907-ce88-ba649ef81453"
      },
      "source": [
        "# closest"
      ],
      "execution_count": 89,
      "outputs": [
        {
          "output_type": "execute_result",
          "data": {
            "text/plain": [
              "Index(['Harry Potter and the Chamber of Secrets (Book 2)',\n",
              "       'Harry Potter and the Sorcerer's Stone (Book 1)',\n",
              "       'Harry Potter and the Prisoner of Azkaban (Book 3)',\n",
              "       'Harry Potter and the Order of the Phoenix (Book 5)',\n",
              "       'Harry Potter and the Sorcerer's Stone (Book 1)',\n",
              "       'Harry Potter and the Goblet of Fire (Book 4)'],\n",
              "      dtype='object', name='Book-Title')"
            ]
          },
          "metadata": {},
          "execution_count": 89
        }
      ]
    },
    {
      "cell_type": "code",
      "metadata": {
        "colab": {
          "base_uri": "https://localhost:8080/"
        },
        "id": "SGzH5WbWBqrK",
        "outputId": "8fcf9002-78dc-4c1a-80af-01ed15fe9e4d"
      },
      "source": [
        "type(closest)"
      ],
      "execution_count": 90,
      "outputs": [
        {
          "output_type": "execute_result",
          "data": {
            "text/plain": [
              "pandas.core.indexes.base.Index"
            ]
          },
          "metadata": {},
          "execution_count": 90
        }
      ]
    },
    {
      "cell_type": "code",
      "metadata": {
        "id": "keNZMeS6AZjc"
      },
      "source": [
        "# closest = closest.drop(readed_book, errors='ignore')"
      ],
      "execution_count": 102,
      "outputs": []
    },
    {
      "cell_type": "markdown",
      "metadata": {
        "id": "Nd0zWuiBYS91"
      },
      "source": [
        "Sebagai contoh, saya akan mencari rekomendasi dari buku yang sudah dibaca. Misalnya sebuah buku dengan seri pertama yang meraih popularitas besar, dan yang mengangkat buku ini ke sebuah film series layar lebar terlaris di seluruh dunia. Yaitu **\"Harry Potter and the Sorcerer's Stone (Harry Potter (Paperback))\"**"
      ]
    },
    {
      "cell_type": "code",
      "metadata": {
        "id": "T-aVWZZPYUrb",
        "colab": {
          "base_uri": "https://localhost:8080/",
          "height": 111
        },
        "outputId": "96e6a064-95b7-400f-8a34-089d7fa70a7a"
      },
      "source": [
        "readed_book = \"Harry Potter and the Chamber of Secrets (Book 2)\"\n",
        "books_new[books_new['Book-Title'].eq(readed_book)]"
      ],
      "execution_count": 137,
      "outputs": [
        {
          "output_type": "execute_result",
          "data": {
            "text/html": [
              "<div>\n",
              "<style scoped>\n",
              "    .dataframe tbody tr th:only-of-type {\n",
              "        vertical-align: middle;\n",
              "    }\n",
              "\n",
              "    .dataframe tbody tr th {\n",
              "        vertical-align: top;\n",
              "    }\n",
              "\n",
              "    .dataframe thead th {\n",
              "        text-align: right;\n",
              "    }\n",
              "</style>\n",
              "<table border=\"1\" class=\"dataframe\">\n",
              "  <thead>\n",
              "    <tr style=\"text-align: right;\">\n",
              "      <th></th>\n",
              "      <th>Book-ISBN</th>\n",
              "      <th>Book-Title</th>\n",
              "      <th>Book-Author</th>\n",
              "      <th>Book-YearOfPublication</th>\n",
              "      <th>Book-Publisher</th>\n",
              "    </tr>\n",
              "  </thead>\n",
              "  <tbody>\n",
              "    <tr>\n",
              "      <th>3459</th>\n",
              "      <td>0439064872</td>\n",
              "      <td>Harry Potter and the Chamber of Secrets (Book 2)</td>\n",
              "      <td>J. K. Rowling</td>\n",
              "      <td>2000.0</td>\n",
              "      <td>Scholastic</td>\n",
              "    </tr>\n",
              "    <tr>\n",
              "      <th>5432</th>\n",
              "      <td>0439064864</td>\n",
              "      <td>Harry Potter and the Chamber of Secrets (Book 2)</td>\n",
              "      <td>J. K. Rowling</td>\n",
              "      <td>1999.0</td>\n",
              "      <td>Scholastic</td>\n",
              "    </tr>\n",
              "  </tbody>\n",
              "</table>\n",
              "</div>"
            ],
            "text/plain": [
              "       Book-ISBN  ... Book-Publisher\n",
              "3459  0439064872  ...     Scholastic\n",
              "5432  0439064864  ...     Scholastic\n",
              "\n",
              "[2 rows x 5 columns]"
            ]
          },
          "metadata": {},
          "execution_count": 137
        }
      ]
    },
    {
      "cell_type": "markdown",
      "metadata": {
        "id": "W4SoBr_KdHDy"
      },
      "source": [
        "Dilanjutkan dengan menampilkan 5 rekomendasi dari buku **Harry Potter and the Sorcerer's Stone (Harry Potter (Paperback))** "
      ]
    },
    {
      "cell_type": "code",
      "metadata": {
        "id": "aVAbkCQWjvxF",
        "colab": {
          "base_uri": "https://localhost:8080/",
          "height": 300
        },
        "outputId": "2c772e39-2a5d-435c-9869-55af9e940409"
      },
      "source": [
        "recommendations = book_recommendations(readed_book, cosine_sim_df, books_new[['Book-Title', 'Book-Author']])\n",
        "recommendations"
      ],
      "execution_count": 138,
      "outputs": [
        {
          "output_type": "error",
          "ename": "ValueError",
          "evalue": "ignored",
          "traceback": [
            "\u001b[0;31m---------------------------------------------------------------------------\u001b[0m",
            "\u001b[0;31mValueError\u001b[0m                                Traceback (most recent call last)",
            "\u001b[0;32m<ipython-input-138-b263b9bda9bc>\u001b[0m in \u001b[0;36m<module>\u001b[0;34m()\u001b[0m\n\u001b[0;32m----> 1\u001b[0;31m \u001b[0mrecommendations\u001b[0m \u001b[0;34m=\u001b[0m \u001b[0mbook_recommendations\u001b[0m\u001b[0;34m(\u001b[0m\u001b[0mreaded_book\u001b[0m\u001b[0;34m,\u001b[0m \u001b[0mcosine_sim_df\u001b[0m\u001b[0;34m,\u001b[0m \u001b[0mbooks_new\u001b[0m\u001b[0;34m[\u001b[0m\u001b[0;34m[\u001b[0m\u001b[0;34m'Book-Title'\u001b[0m\u001b[0;34m,\u001b[0m \u001b[0;34m'Book-Author'\u001b[0m\u001b[0;34m]\u001b[0m\u001b[0;34m]\u001b[0m\u001b[0;34m)\u001b[0m\u001b[0;34m\u001b[0m\u001b[0;34m\u001b[0m\u001b[0m\n\u001b[0m\u001b[1;32m      2\u001b[0m \u001b[0mrecommendations\u001b[0m\u001b[0;34m\u001b[0m\u001b[0;34m\u001b[0m\u001b[0m\n",
            "\u001b[0;32m<ipython-input-136-ead4599b2a79>\u001b[0m in \u001b[0;36mbook_recommendations\u001b[0;34m(title, similarity_data, items, k)\u001b[0m\n\u001b[1;32m      2\u001b[0m     \u001b[0mindex\u001b[0m \u001b[0;34m=\u001b[0m \u001b[0msimilarity_data\u001b[0m\u001b[0;34m.\u001b[0m\u001b[0mloc\u001b[0m\u001b[0;34m[\u001b[0m\u001b[0;34m:\u001b[0m\u001b[0;34m,\u001b[0m\u001b[0mtitle\u001b[0m\u001b[0;34m]\u001b[0m\u001b[0;34m.\u001b[0m\u001b[0mto_numpy\u001b[0m\u001b[0;34m(\u001b[0m\u001b[0;34m)\u001b[0m\u001b[0;34m\u001b[0m\u001b[0;34m\u001b[0m\u001b[0m\n\u001b[1;32m      3\u001b[0m     \u001b[0mr\u001b[0m \u001b[0;34m=\u001b[0m \u001b[0mk\u001b[0m\u001b[0;34m+\u001b[0m\u001b[0;36m1\u001b[0m \u001b[0;32mif\u001b[0m \u001b[0mlen\u001b[0m\u001b[0;34m(\u001b[0m\u001b[0mindex\u001b[0m\u001b[0;34m)\u001b[0m\u001b[0;34m>=\u001b[0m\u001b[0mk\u001b[0m \u001b[0;32melse\u001b[0m \u001b[0mlen\u001b[0m\u001b[0;34m(\u001b[0m\u001b[0mindex\u001b[0m\u001b[0;34m)\u001b[0m\u001b[0;34m\u001b[0m\u001b[0;34m\u001b[0m\u001b[0m\n\u001b[0;32m----> 4\u001b[0;31m     \u001b[0mindex\u001b[0m \u001b[0;34m=\u001b[0m \u001b[0msimilarity_data\u001b[0m\u001b[0;34m.\u001b[0m\u001b[0mloc\u001b[0m\u001b[0;34m[\u001b[0m\u001b[0;34m:\u001b[0m\u001b[0;34m,\u001b[0m\u001b[0mtitle\u001b[0m\u001b[0;34m]\u001b[0m\u001b[0;34m.\u001b[0m\u001b[0mto_numpy\u001b[0m\u001b[0;34m(\u001b[0m\u001b[0;34m)\u001b[0m\u001b[0;34m.\u001b[0m\u001b[0margpartition\u001b[0m\u001b[0;34m(\u001b[0m\u001b[0mrange\u001b[0m\u001b[0;34m(\u001b[0m\u001b[0;34m-\u001b[0m\u001b[0;36m1\u001b[0m\u001b[0;34m,\u001b[0m\u001b[0;34m-\u001b[0m\u001b[0mk\u001b[0m\u001b[0;34m,\u001b[0m\u001b[0;34m-\u001b[0m\u001b[0;36m1\u001b[0m\u001b[0;34m)\u001b[0m\u001b[0;34m)\u001b[0m\u001b[0;34m\u001b[0m\u001b[0;34m\u001b[0m\u001b[0m\n\u001b[0m\u001b[1;32m      5\u001b[0m     \u001b[0mclosest\u001b[0m \u001b[0;34m=\u001b[0m \u001b[0msimilarity_data\u001b[0m\u001b[0;34m.\u001b[0m\u001b[0mcolumns\u001b[0m\u001b[0;34m[\u001b[0m\u001b[0mindex\u001b[0m\u001b[0;34m[\u001b[0m\u001b[0;34m-\u001b[0m\u001b[0;36m1\u001b[0m\u001b[0;34m:\u001b[0m\u001b[0;34m-\u001b[0m\u001b[0mr\u001b[0m\u001b[0;34m:\u001b[0m\u001b[0;34m-\u001b[0m\u001b[0;36m1\u001b[0m\u001b[0;34m]\u001b[0m\u001b[0;34m]\u001b[0m\u001b[0;34m\u001b[0m\u001b[0;34m\u001b[0m\u001b[0m\n\u001b[1;32m      6\u001b[0m     \u001b[0;31m# closest = closest.drop(title, errors='ignore')\u001b[0m\u001b[0;34m\u001b[0m\u001b[0;34m\u001b[0m\u001b[0;34m\u001b[0m\u001b[0m\n",
            "\u001b[0;31mValueError\u001b[0m: kth(=-1) out of bounds (2)"
          ]
        }
      ]
    }
  ]
}