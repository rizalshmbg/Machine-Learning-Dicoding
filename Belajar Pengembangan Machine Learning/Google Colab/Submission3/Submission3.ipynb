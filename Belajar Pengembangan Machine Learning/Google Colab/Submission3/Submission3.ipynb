{
  "nbformat": 4,
  "nbformat_minor": 0,
  "metadata": {
    "colab": {
      "name": "Submission_final_1.ipynb",
      "provenance": [],
      "collapsed_sections": []
    },
    "kernelspec": {
      "name": "python3",
      "display_name": "Python 3"
    },
    "language_info": {
      "name": "python"
    },
    "accelerator": "GPU"
  },
  "cells": [
    {
      "cell_type": "code",
      "metadata": {
        "id": "Z1_pe89SnZPX"
      },
      "source": [
        "import tensorflow as tf"
      ],
      "execution_count": 1,
      "outputs": []
    },
    {
      "cell_type": "code",
      "metadata": {
        "colab": {
          "base_uri": "https://localhost:8080/"
        },
        "id": "S-6GINGoVxCs",
        "outputId": "fd78a0dc-5471-4fd7-8ef4-8fac4f37b83b"
      },
      "source": [
        "!wget --no-check-certificate \\\n",
        "  ftp://cs.stanford.edu/cs/cvgl/Stanford_Online_Products.zip \\\n",
        "  -O /tmp/Stanford_Online_Products.zip"
      ],
      "execution_count": 2,
      "outputs": [
        {
          "output_type": "stream",
          "name": "stdout",
          "text": [
            "--2021-09-30 05:05:14--  ftp://cs.stanford.edu/cs/cvgl/Stanford_Online_Products.zip\n",
            "           => ‘/tmp/Stanford_Online_Products.zip’\n",
            "Resolving cs.stanford.edu (cs.stanford.edu)... 171.64.64.64\n",
            "Connecting to cs.stanford.edu (cs.stanford.edu)|171.64.64.64|:21... connected.\n",
            "Logging in as anonymous ... Logged in!\n",
            "==> SYST ... done.    ==> PWD ... done.\n",
            "==> TYPE I ... done.  ==> CWD (1) /cs/cvgl ... done.\n",
            "==> SIZE Stanford_Online_Products.zip ... 3083860082\n",
            "==> PASV ... done.    ==> RETR Stanford_Online_Products.zip ... done.\n",
            "Length: 3083860082 (2.9G) (unauthoritative)\n",
            "\n",
            "Stanford_Online_Pro 100%[===================>]   2.87G  33.6MB/s    in 72s     \n",
            "\n",
            "2021-09-30 05:06:26 (41.1 MB/s) - ‘/tmp/Stanford_Online_Products.zip’ saved [3083860082]\n",
            "\n"
          ]
        }
      ]
    },
    {
      "cell_type": "code",
      "metadata": {
        "id": "IKBWFqI3gSIo"
      },
      "source": [
        "import zipfile, os\n",
        "\n",
        "file_zip = '/tmp/Stanford_Online_Products.zip'\n",
        "zip_ref = zipfile.ZipFile(file_zip, 'r')\n",
        "zip_ref.extractall('/content')\n",
        "zip_ref.close()\n",
        "\n",
        "base_dir = '/content/Stanford_Online_Products'"
      ],
      "execution_count": 3,
      "outputs": []
    },
    {
      "cell_type": "code",
      "metadata": {
        "colab": {
          "base_uri": "https://localhost:8080/"
        },
        "id": "Oug95eXbfmx-",
        "outputId": "94539a31-8adf-48c9-c4f4-3f7cf258058b"
      },
      "source": [
        "os.listdir(base_dir)"
      ],
      "execution_count": 4,
      "outputs": [
        {
          "output_type": "execute_result",
          "data": {
            "text/plain": [
              "['Ebay_final.txt',\n",
              " 'kettle_final.txt',\n",
              " 'table_final',\n",
              " 'Ebay_info.txt',\n",
              " 'Ebay_train.txt',\n",
              " 'toaster_final.txt',\n",
              " 'sofa_final.txt',\n",
              " 'mug_final',\n",
              " 'table_final.txt',\n",
              " 'bicycle_final.txt',\n",
              " 'chair_final',\n",
              " 'Ebay_test.txt',\n",
              " 'README',\n",
              " 'LICENSE',\n",
              " 'bicycle_final',\n",
              " 'fan_final',\n",
              " 'chair_final.txt',\n",
              " 'mug_final.txt',\n",
              " 'coffee_maker_final.txt',\n",
              " 'cabinet_final.txt',\n",
              " 'lamp_final',\n",
              " 'toaster_final',\n",
              " 'sofa_final',\n",
              " 'lamp_final.txt',\n",
              " 'coffee_maker_final',\n",
              " 'kettle_final',\n",
              " 'cabinet_final',\n",
              " 'stapler_final',\n",
              " 'fan_final.txt',\n",
              " 'stapler_final.txt']"
            ]
          },
          "metadata": {},
          "execution_count": 4
        }
      ]
    },
    {
      "cell_type": "code",
      "metadata": {
        "id": "ZSRcLvkrxCIc"
      },
      "source": [
        "from tensorflow.keras.preprocessing.image import ImageDataGenerator\n",
        "\n",
        "train_datagen = ImageDataGenerator(\n",
        "                    rescale = 1./225,\n",
        "                    rotation_range = 20,\n",
        "                    horizontal_flip = True,\n",
        "                    shear_range = 0.2,\n",
        "                    fill_mode = 'nearest',\n",
        "                    validation_split = 0.2\n",
        ")"
      ],
      "execution_count": 5,
      "outputs": []
    },
    {
      "cell_type": "code",
      "metadata": {
        "colab": {
          "base_uri": "https://localhost:8080/"
        },
        "id": "4yU6kxt1gTed",
        "outputId": "eed07895-ec40-4287-cfda-86d91c206239"
      },
      "source": [
        "# deklarasi variabel global ukuran gambar\n",
        "image_size = (224, 224)\n",
        "\n",
        "train_generator = train_datagen.flow_from_directory(\n",
        "        base_dir,\n",
        "        target_size = image_size,\n",
        "        classes=['lamp_final', 'mug_final', 'sofa_final'],\n",
        "        batch_size = 128,\n",
        "        class_mode = 'categorical',\n",
        "        subset='training'\n",
        ")\n",
        " \n",
        "val_generator = train_datagen.flow_from_directory(\n",
        "        base_dir,\n",
        "        target_size = image_size,\n",
        "        classes=['lamp_final', 'mug_final', 'sofa_final'],\n",
        "        batch_size = 64,\n",
        "        class_mode = 'categorical',\n",
        "        subset='validation'\n",
        ")"
      ],
      "execution_count": 6,
      "outputs": [
        {
          "output_type": "stream",
          "name": "stdout",
          "text": [
            "Found 26870 images belonging to 3 classes.\n",
            "Found 6717 images belonging to 3 classes.\n"
          ]
        }
      ]
    },
    {
      "cell_type": "code",
      "metadata": {
        "id": "Out1_f2O8iiV"
      },
      "source": [
        "# membuat class callback untuk stopping\n",
        "class myCallback(tf.keras.callbacks.Callback):\n",
        "   def on_epoch_end(self, epoch, logs={}):\n",
        "      if(logs.get('accuracy') >= 0.85 and logs.get('val_accuracy') >= 0.85):\n",
        "          print(\"\\nAkurasi telah mencapai >=85%!\")\n",
        "          self.model.stop_training = True\n",
        "\n",
        "callbacks = myCallback()"
      ],
      "execution_count": 7,
      "outputs": []
    },
    {
      "cell_type": "code",
      "metadata": {
        "id": "tuPjP3CVrhY6"
      },
      "source": [
        "model = tf.keras.models.Sequential()\n",
        "\n",
        "\n",
        "model.add(tf.keras.layers.Conv2D(filters = 32, kernel_size = (5,5),padding = 'Same',activation ='relu', input_shape = (224,224,3)))\n",
        "model.add(tf.keras.layers.MaxPooling2D(pool_size=(2,2)))\n",
        "model.add(tf.keras.layers.Dropout(0.2))\n",
        "\n",
        "model.add(tf.keras.layers.Conv2D(filters = 64, kernel_size = (3,3),padding = 'Same',activation ='relu'))\n",
        "model.add(tf.keras.layers.MaxPooling2D(pool_size=(2,2), strides=(2,2))) \n",
        "model.add(tf.keras.layers.Dropout(0.2))\n",
        "\n",
        "model.add(tf.keras.layers.Conv2D(filters =96, kernel_size = (3,3),padding = 'Same',activation ='relu'))\n",
        "model.add(tf.keras.layers.MaxPooling2D(pool_size=(2,2), strides=(2,2)))\n",
        "model.add(tf.keras.layers.Dropout(0.2))\n",
        "\n",
        "model.add(tf.keras.layers.Conv2D(filters = 96, kernel_size = (3,3),padding = 'Same',activation ='relu'))\n",
        "model.add(tf.keras.layers.MaxPooling2D(pool_size=(2,2), strides=(2,2)))\n",
        "model.add(tf.keras.layers.Dropout(0.2))\n",
        "\n",
        "model.add(tf.keras.layers.Flatten())\n",
        "model.add(tf.keras.layers.Dense(512))\n",
        "model.add(tf.keras.layers.Activation('relu'))\n",
        "model.add(tf.keras.layers.Dropout(0.4))\n",
        "model.add(tf.keras.layers.Dense(3, activation = \"softmax\"))"
      ],
      "execution_count": 8,
      "outputs": []
    },
    {
      "cell_type": "code",
      "metadata": {
        "id": "-vDCfKF7sioY"
      },
      "source": [
        "model.compile(\n",
        "    loss = 'categorical_crossentropy',\n",
        "    optimizer = tf.optimizers.Adam(),\n",
        "    metrics = ['accuracy']\n",
        ")"
      ],
      "execution_count": 9,
      "outputs": []
    },
    {
      "cell_type": "code",
      "metadata": {
        "colab": {
          "base_uri": "https://localhost:8080/"
        },
        "id": "rQQRe_z-uun0",
        "outputId": "10a1fb11-fdc4-4a79-df9a-be9f70e2ef2b"
      },
      "source": [
        "# deklarasi variabel global epoch\n",
        "epochs = 200\n",
        "\n",
        "# membuat objek callback untuk early stopping dan reduksi learning rate\n",
        "reduce_lr = tf.keras.callbacks.ReduceLROnPlateau(monitor='val_accuracy', patience=15, verbose=2, min_lr=0.00001)\n",
        "\n",
        "# latih model dengan model.fit\n",
        "history = model.fit(train_generator,\n",
        "                    epochs = epochs, \n",
        "                    validation_data = val_generator,\n",
        "                    verbose = 2, \n",
        "                    steps_per_epoch = 25,\n",
        "                    callbacks=[callbacks, reduce_lr],\n",
        "                    validation_steps = 25)\n"
      ],
      "execution_count": 10,
      "outputs": [
        {
          "output_type": "stream",
          "name": "stdout",
          "text": [
            "Epoch 1/200\n",
            "25/25 - 102s - loss: 1.5938 - accuracy: 0.3734 - val_loss: 1.0730 - val_accuracy: 0.3781\n",
            "Epoch 2/200\n",
            "25/25 - 67s - loss: 1.0674 - accuracy: 0.3947 - val_loss: 1.0444 - val_accuracy: 0.4206\n",
            "Epoch 3/200\n",
            "25/25 - 65s - loss: 1.0254 - accuracy: 0.4172 - val_loss: 1.0432 - val_accuracy: 0.3719\n",
            "Epoch 4/200\n",
            "25/25 - 64s - loss: 1.0002 - accuracy: 0.4419 - val_loss: 1.0088 - val_accuracy: 0.5150\n",
            "Epoch 5/200\n",
            "25/25 - 64s - loss: 0.9880 - accuracy: 0.4837 - val_loss: 0.9914 - val_accuracy: 0.5531\n",
            "Epoch 6/200\n",
            "25/25 - 64s - loss: 0.9676 - accuracy: 0.5100 - val_loss: 0.9591 - val_accuracy: 0.5206\n",
            "Epoch 7/200\n",
            "25/25 - 65s - loss: 0.9502 - accuracy: 0.5309 - val_loss: 0.8939 - val_accuracy: 0.5625\n",
            "Epoch 8/200\n",
            "25/25 - 65s - loss: 0.8662 - accuracy: 0.5881 - val_loss: 0.8709 - val_accuracy: 0.6231\n",
            "Epoch 9/200\n",
            "25/25 - 65s - loss: 0.8640 - accuracy: 0.6041 - val_loss: 0.7784 - val_accuracy: 0.6925\n",
            "Epoch 10/200\n",
            "25/25 - 64s - loss: 0.7935 - accuracy: 0.6591 - val_loss: 0.8312 - val_accuracy: 0.6237\n",
            "Epoch 11/200\n",
            "25/25 - 65s - loss: 0.7666 - accuracy: 0.6791 - val_loss: 0.7829 - val_accuracy: 0.6662\n",
            "Epoch 12/200\n",
            "25/25 - 65s - loss: 0.7485 - accuracy: 0.6847 - val_loss: 0.7276 - val_accuracy: 0.7000\n",
            "Epoch 13/200\n",
            "25/25 - 68s - loss: 0.7200 - accuracy: 0.6991 - val_loss: 0.7763 - val_accuracy: 0.6656\n",
            "Epoch 14/200\n",
            "25/25 - 64s - loss: 0.7044 - accuracy: 0.7047 - val_loss: 0.6919 - val_accuracy: 0.7100\n",
            "Epoch 15/200\n",
            "25/25 - 66s - loss: 0.6761 - accuracy: 0.7141 - val_loss: 0.7241 - val_accuracy: 0.6700\n",
            "Epoch 16/200\n",
            "25/25 - 65s - loss: 0.6757 - accuracy: 0.7100 - val_loss: 0.6904 - val_accuracy: 0.7188\n",
            "Epoch 17/200\n",
            "25/25 - 66s - loss: 0.6818 - accuracy: 0.7200 - val_loss: 0.6634 - val_accuracy: 0.7231\n",
            "Epoch 18/200\n",
            "25/25 - 64s - loss: 0.6527 - accuracy: 0.7266 - val_loss: 0.7134 - val_accuracy: 0.6931\n",
            "Epoch 19/200\n",
            "25/25 - 64s - loss: 0.6445 - accuracy: 0.7341 - val_loss: 0.7781 - val_accuracy: 0.6544\n",
            "Epoch 20/200\n",
            "25/25 - 64s - loss: 0.6602 - accuracy: 0.7250 - val_loss: 0.6983 - val_accuracy: 0.6944\n",
            "Epoch 21/200\n",
            "25/25 - 65s - loss: 0.6444 - accuracy: 0.7269 - val_loss: 0.6389 - val_accuracy: 0.7300\n",
            "Epoch 22/200\n",
            "25/25 - 65s - loss: 0.6110 - accuracy: 0.7319 - val_loss: 0.6452 - val_accuracy: 0.7419\n",
            "Epoch 23/200\n",
            "25/25 - 64s - loss: 0.6245 - accuracy: 0.7341 - val_loss: 0.6853 - val_accuracy: 0.7013\n",
            "Epoch 24/200\n",
            "25/25 - 66s - loss: 0.6571 - accuracy: 0.7256 - val_loss: 0.6547 - val_accuracy: 0.7250\n",
            "Epoch 25/200\n",
            "25/25 - 66s - loss: 0.6052 - accuracy: 0.7481 - val_loss: 0.7137 - val_accuracy: 0.6900\n",
            "Epoch 26/200\n",
            "25/25 - 65s - loss: 0.6014 - accuracy: 0.7462 - val_loss: 0.6029 - val_accuracy: 0.7531\n",
            "Epoch 27/200\n",
            "25/25 - 65s - loss: 0.6000 - accuracy: 0.7428 - val_loss: 0.6198 - val_accuracy: 0.7419\n",
            "Epoch 28/200\n",
            "25/25 - 65s - loss: 0.5796 - accuracy: 0.7450 - val_loss: 0.6644 - val_accuracy: 0.7181\n",
            "Epoch 29/200\n",
            "25/25 - 66s - loss: 0.5881 - accuracy: 0.7538 - val_loss: 0.6129 - val_accuracy: 0.7350\n",
            "Epoch 30/200\n",
            "25/25 - 66s - loss: 0.5757 - accuracy: 0.7678 - val_loss: 0.6522 - val_accuracy: 0.7262\n",
            "Epoch 31/200\n",
            "25/25 - 66s - loss: 0.5603 - accuracy: 0.7753 - val_loss: 0.6083 - val_accuracy: 0.7481\n",
            "Epoch 32/200\n",
            "25/25 - 66s - loss: 0.5569 - accuracy: 0.7694 - val_loss: 0.6285 - val_accuracy: 0.7394\n",
            "Epoch 33/200\n",
            "25/25 - 65s - loss: 0.5618 - accuracy: 0.7606 - val_loss: 0.6204 - val_accuracy: 0.7306\n",
            "Epoch 34/200\n",
            "25/25 - 65s - loss: 0.5580 - accuracy: 0.7703 - val_loss: 0.6278 - val_accuracy: 0.7294\n",
            "Epoch 35/200\n",
            "25/25 - 66s - loss: 0.5283 - accuracy: 0.7909 - val_loss: 0.5487 - val_accuracy: 0.7694\n",
            "Epoch 36/200\n",
            "25/25 - 68s - loss: 0.5386 - accuracy: 0.7834 - val_loss: 0.6248 - val_accuracy: 0.7350\n",
            "Epoch 37/200\n",
            "25/25 - 68s - loss: 0.5563 - accuracy: 0.7663 - val_loss: 0.6001 - val_accuracy: 0.7519\n",
            "Epoch 38/200\n",
            "25/25 - 69s - loss: 0.5317 - accuracy: 0.7753 - val_loss: 0.5547 - val_accuracy: 0.7738\n",
            "Epoch 39/200\n",
            "25/25 - 68s - loss: 0.5329 - accuracy: 0.7847 - val_loss: 0.5944 - val_accuracy: 0.7450\n",
            "Epoch 40/200\n",
            "25/25 - 66s - loss: 0.5343 - accuracy: 0.7862 - val_loss: 0.5938 - val_accuracy: 0.7475\n",
            "Epoch 41/200\n",
            "25/25 - 65s - loss: 0.5245 - accuracy: 0.7866 - val_loss: 0.6280 - val_accuracy: 0.7356\n",
            "Epoch 42/200\n",
            "25/25 - 66s - loss: 0.5195 - accuracy: 0.7872 - val_loss: 0.5589 - val_accuracy: 0.7581\n",
            "Epoch 43/200\n",
            "25/25 - 67s - loss: 0.5472 - accuracy: 0.7734 - val_loss: 0.5800 - val_accuracy: 0.7631\n",
            "Epoch 44/200\n",
            "25/25 - 65s - loss: 0.5087 - accuracy: 0.7859 - val_loss: 0.5632 - val_accuracy: 0.7619\n",
            "Epoch 45/200\n",
            "25/25 - 65s - loss: 0.5058 - accuracy: 0.7897 - val_loss: 0.5618 - val_accuracy: 0.7738\n",
            "Epoch 46/200\n",
            "25/25 - 66s - loss: 0.4952 - accuracy: 0.7928 - val_loss: 0.5543 - val_accuracy: 0.7606\n",
            "Epoch 47/200\n",
            "25/25 - 66s - loss: 0.4779 - accuracy: 0.8031 - val_loss: 0.5283 - val_accuracy: 0.7794\n",
            "Epoch 48/200\n",
            "25/25 - 65s - loss: 0.4803 - accuracy: 0.8050 - val_loss: 0.5048 - val_accuracy: 0.7944\n",
            "Epoch 49/200\n",
            "25/25 - 66s - loss: 0.5032 - accuracy: 0.8006 - val_loss: 0.5574 - val_accuracy: 0.7781\n",
            "Epoch 50/200\n",
            "25/25 - 65s - loss: 0.4800 - accuracy: 0.8016 - val_loss: 0.5649 - val_accuracy: 0.7756\n",
            "Epoch 51/200\n",
            "25/25 - 65s - loss: 0.4857 - accuracy: 0.8034 - val_loss: 0.5390 - val_accuracy: 0.7894\n",
            "Epoch 52/200\n",
            "25/25 - 68s - loss: 0.4865 - accuracy: 0.8072 - val_loss: 0.5608 - val_accuracy: 0.7675\n",
            "Epoch 53/200\n",
            "25/25 - 67s - loss: 0.4692 - accuracy: 0.8084 - val_loss: 0.5005 - val_accuracy: 0.7850\n",
            "Epoch 54/200\n",
            "25/25 - 65s - loss: 0.4472 - accuracy: 0.8228 - val_loss: 0.5314 - val_accuracy: 0.7788\n",
            "Epoch 55/200\n",
            "25/25 - 66s - loss: 0.4557 - accuracy: 0.8219 - val_loss: 0.5425 - val_accuracy: 0.7806\n",
            "Epoch 56/200\n",
            "25/25 - 66s - loss: 0.4680 - accuracy: 0.8141 - val_loss: 0.4990 - val_accuracy: 0.7969\n",
            "Epoch 57/200\n",
            "25/25 - 68s - loss: 0.4814 - accuracy: 0.8062 - val_loss: 0.5269 - val_accuracy: 0.7800\n",
            "Epoch 58/200\n",
            "25/25 - 65s - loss: 0.4798 - accuracy: 0.8131 - val_loss: 0.5340 - val_accuracy: 0.7806\n",
            "Epoch 59/200\n",
            "25/25 - 66s - loss: 0.4920 - accuracy: 0.7969 - val_loss: 0.5326 - val_accuracy: 0.7719\n",
            "Epoch 60/200\n",
            "25/25 - 64s - loss: 0.4724 - accuracy: 0.8203 - val_loss: 0.5408 - val_accuracy: 0.7756\n",
            "Epoch 61/200\n",
            "25/25 - 65s - loss: 0.4585 - accuracy: 0.8138 - val_loss: 0.5801 - val_accuracy: 0.7619\n",
            "Epoch 62/200\n",
            "25/25 - 63s - loss: 0.4438 - accuracy: 0.8134 - val_loss: 0.5379 - val_accuracy: 0.7744\n",
            "Epoch 63/200\n",
            "25/25 - 64s - loss: 0.4533 - accuracy: 0.8166 - val_loss: 0.5001 - val_accuracy: 0.7925\n",
            "Epoch 64/200\n",
            "25/25 - 66s - loss: 0.4593 - accuracy: 0.8175 - val_loss: 0.5016 - val_accuracy: 0.7969\n",
            "Epoch 65/200\n",
            "25/25 - 64s - loss: 0.4491 - accuracy: 0.8113 - val_loss: 0.4652 - val_accuracy: 0.8025\n",
            "Epoch 66/200\n",
            "25/25 - 66s - loss: 0.4153 - accuracy: 0.8334 - val_loss: 0.5201 - val_accuracy: 0.7862\n",
            "Epoch 67/200\n",
            "25/25 - 67s - loss: 0.4217 - accuracy: 0.8328 - val_loss: 0.4884 - val_accuracy: 0.7956\n",
            "Epoch 68/200\n",
            "25/25 - 64s - loss: 0.4291 - accuracy: 0.8275 - val_loss: 0.4381 - val_accuracy: 0.8269\n",
            "Epoch 69/200\n",
            "25/25 - 64s - loss: 0.4336 - accuracy: 0.8234 - val_loss: 0.4809 - val_accuracy: 0.8206\n",
            "Epoch 70/200\n",
            "25/25 - 64s - loss: 0.4103 - accuracy: 0.8363 - val_loss: 0.4774 - val_accuracy: 0.8100\n",
            "Epoch 71/200\n",
            "25/25 - 64s - loss: 0.4293 - accuracy: 0.8322 - val_loss: 0.4549 - val_accuracy: 0.8169\n",
            "Epoch 72/200\n",
            "25/25 - 65s - loss: 0.4277 - accuracy: 0.8266 - val_loss: 0.5087 - val_accuracy: 0.7869\n",
            "Epoch 73/200\n",
            "25/25 - 65s - loss: 0.4121 - accuracy: 0.8344 - val_loss: 0.4611 - val_accuracy: 0.8244\n",
            "Epoch 74/200\n",
            "25/25 - 64s - loss: 0.4077 - accuracy: 0.8338 - val_loss: 0.4756 - val_accuracy: 0.8138\n",
            "Epoch 75/200\n",
            "25/25 - 65s - loss: 0.4270 - accuracy: 0.8228 - val_loss: 0.5427 - val_accuracy: 0.7744\n",
            "Epoch 76/200\n",
            "25/25 - 65s - loss: 0.4396 - accuracy: 0.8269 - val_loss: 0.4612 - val_accuracy: 0.8044\n",
            "Epoch 77/200\n",
            "25/25 - 65s - loss: 0.4059 - accuracy: 0.8403 - val_loss: 0.4597 - val_accuracy: 0.8150\n",
            "Epoch 78/200\n",
            "25/25 - 65s - loss: 0.4027 - accuracy: 0.8458 - val_loss: 0.5040 - val_accuracy: 0.7862\n",
            "Epoch 79/200\n",
            "25/25 - 64s - loss: 0.4076 - accuracy: 0.8350 - val_loss: 0.4897 - val_accuracy: 0.7919\n",
            "Epoch 80/200\n",
            "25/25 - 65s - loss: 0.3901 - accuracy: 0.8438 - val_loss: 0.5007 - val_accuracy: 0.8000\n",
            "Epoch 81/200\n",
            "25/25 - 64s - loss: 0.3849 - accuracy: 0.8487 - val_loss: 0.5018 - val_accuracy: 0.8031\n",
            "Epoch 82/200\n",
            "25/25 - 64s - loss: 0.3873 - accuracy: 0.8381 - val_loss: 0.4544 - val_accuracy: 0.8238\n",
            "Epoch 83/200\n",
            "25/25 - 65s - loss: 0.3775 - accuracy: 0.8512 - val_loss: 0.4290 - val_accuracy: 0.8294\n",
            "Epoch 84/200\n",
            "25/25 - 65s - loss: 0.4137 - accuracy: 0.8350 - val_loss: 0.4481 - val_accuracy: 0.8281\n",
            "Epoch 85/200\n",
            "25/25 - 65s - loss: 0.3606 - accuracy: 0.8600 - val_loss: 0.4756 - val_accuracy: 0.8025\n",
            "Epoch 86/200\n",
            "25/25 - 64s - loss: 0.3944 - accuracy: 0.8509 - val_loss: 0.4448 - val_accuracy: 0.8188\n",
            "Epoch 87/200\n",
            "25/25 - 63s - loss: 0.3545 - accuracy: 0.8531 - val_loss: 0.4413 - val_accuracy: 0.8194\n",
            "Epoch 88/200\n",
            "25/25 - 64s - loss: 0.3889 - accuracy: 0.8384 - val_loss: 0.4076 - val_accuracy: 0.8400\n",
            "Epoch 89/200\n",
            "25/25 - 65s - loss: 0.3893 - accuracy: 0.8456 - val_loss: 0.5207 - val_accuracy: 0.7887\n",
            "Epoch 90/200\n",
            "25/25 - 65s - loss: 0.3880 - accuracy: 0.8441 - val_loss: 0.4820 - val_accuracy: 0.8075\n",
            "Epoch 91/200\n",
            "25/25 - 63s - loss: 0.3859 - accuracy: 0.8441 - val_loss: 0.4827 - val_accuracy: 0.8100\n",
            "Epoch 92/200\n",
            "25/25 - 64s - loss: 0.3672 - accuracy: 0.8584 - val_loss: 0.5045 - val_accuracy: 0.8012\n",
            "Epoch 93/200\n",
            "25/25 - 65s - loss: 0.3989 - accuracy: 0.8347 - val_loss: 0.5261 - val_accuracy: 0.7881\n",
            "Epoch 94/200\n",
            "25/25 - 66s - loss: 0.3423 - accuracy: 0.8737 - val_loss: 0.4382 - val_accuracy: 0.8288\n",
            "Epoch 95/200\n",
            "25/25 - 66s - loss: 0.3788 - accuracy: 0.8494 - val_loss: 0.4686 - val_accuracy: 0.8238\n",
            "Epoch 96/200\n",
            "25/25 - 64s - loss: 0.3690 - accuracy: 0.8534 - val_loss: 0.4074 - val_accuracy: 0.8325\n",
            "Epoch 97/200\n",
            "25/25 - 64s - loss: 0.3744 - accuracy: 0.8536 - val_loss: 0.4069 - val_accuracy: 0.8406\n",
            "Epoch 98/200\n",
            "25/25 - 64s - loss: 0.3940 - accuracy: 0.8472 - val_loss: 0.4152 - val_accuracy: 0.8306\n",
            "Epoch 99/200\n",
            "25/25 - 65s - loss: 0.3629 - accuracy: 0.8572 - val_loss: 0.4207 - val_accuracy: 0.8313\n",
            "Epoch 100/200\n",
            "25/25 - 65s - loss: 0.3468 - accuracy: 0.8609 - val_loss: 0.4514 - val_accuracy: 0.8206\n",
            "Epoch 101/200\n",
            "25/25 - 65s - loss: 0.3942 - accuracy: 0.8409 - val_loss: 0.4324 - val_accuracy: 0.8188\n",
            "Epoch 102/200\n",
            "25/25 - 64s - loss: 0.3359 - accuracy: 0.8647 - val_loss: 0.3675 - val_accuracy: 0.8600\n",
            "\n",
            "Akurasi telah mencapai >=85%!\n"
          ]
        }
      ]
    },
    {
      "cell_type": "code",
      "metadata": {
        "id": "MjdNldUXjjd5",
        "colab": {
          "base_uri": "https://localhost:8080/",
          "height": 295
        },
        "outputId": "ce43b70d-6f3e-4ab7-c5be-fc5c6cd178d9"
      },
      "source": [
        "import matplotlib.pyplot as plt\n",
        "\n",
        "plt.plot(history.history['accuracy'])\n",
        "plt.plot(history.history['val_accuracy'])\n",
        "plt.title('Accuracy Model')\n",
        "plt.ylabel('accuracy')\n",
        "plt.xlabel('epoch')\n",
        "plt.legend(['train', 'test'], loc='upper left')\n",
        "plt.show()"
      ],
      "execution_count": 11,
      "outputs": [
        {
          "output_type": "display_data",
          "data": {
            "image/png": "[encoded data removed]",
            "text/plain": [
              "<Figure size 432x288 with 1 Axes>"
            ]
          },
          "metadata": {
            "needs_background": "light"
          }
        }
      ]
    },
    {
      "cell_type": "code",
      "metadata": {
        "id": "vQ95azY1jqR4",
        "colab": {
          "base_uri": "https://localhost:8080/",
          "height": 295
        },
        "outputId": "9b0efe57-30f3-4dfb-b6e5-b9ad3f0d2b38"
      },
      "source": [
        "plt.plot(history.history['loss'])\n",
        "plt.plot(history.history['val_loss'])\n",
        "plt.title('Loss Model')\n",
        "plt.ylabel('loss')\n",
        "plt.xlabel('epoch')\n",
        "plt.legend(['train', 'test'], loc='upper left')\n",
        "plt.show()"
      ],
      "execution_count": 12,
      "outputs": [
        {
          "output_type": "display_data",
          "data": {
            "image/png": "[encoded data removed]",
            "text/plain": [
              "<Figure size 432x288 with 1 Axes>"
            ]
          },
          "metadata": {
            "needs_background": "light"
          }
        }
      ]
    },
    {
      "cell_type": "code",
      "metadata": {
        "id": "8t8Bf_N1rbe_",
        "colab": {
          "base_uri": "https://localhost:8080/"
        },
        "outputId": "f7bb83e9-72b6-4b86-fb41-98aa1df79405"
      },
      "source": [
        "converter = tf.lite.TFLiteConverter.from_keras_model(model)\n",
        "tflite_model = converter.convert()"
      ],
      "execution_count": 13,
      "outputs": [
        {
          "output_type": "stream",
          "name": "stdout",
          "text": [
            "INFO:tensorflow:Assets written to: /tmp/tmpiwj2b0sz/assets\n"
          ]
        }
      ]
    },
    {
      "cell_type": "code",
      "metadata": {
        "id": "4jhuIHe0rcNW"
      },
      "source": [
        "with tf.io.gfile.GFile('model.tflite', 'wb') as f:\n",
        "  f.write(tflite_model)"
      ],
      "execution_count": 14,
      "outputs": []
    }
  ]
}