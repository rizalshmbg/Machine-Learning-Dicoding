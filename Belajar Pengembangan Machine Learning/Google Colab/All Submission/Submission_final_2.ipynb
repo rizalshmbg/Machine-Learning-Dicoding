{
  "nbformat": 4,
  "nbformat_minor": 0,
  "metadata": {
    "accelerator": "GPU",
    "colab": {
      "name": "Submission_final_2.ipynb",
      "provenance": [],
      "collapsed_sections": []
    },
    "kernelspec": {
      "display_name": "Python 3",
      "name": "python3"
    },
    "language_info": {
      "name": "python"
    }
  },
  "cells": [
    {
      "cell_type": "code",
      "metadata": {
        "id": "Z1_pe89SnZPX"
      },
      "source": [
        "import tensorflow as tf"
      ],
      "execution_count": 1,
      "outputs": []
    },
    {
      "cell_type": "code",
      "metadata": {
        "colab": {
          "base_uri": "https://localhost:8080/"
        },
        "id": "S-6GINGoVxCs",
        "outputId": "1d597eec-1cbb-4f06-f9d9-1b7ab801bfd3"
      },
      "source": [
        "!wget --no-check-certificate \\\n",
        "  ftp://cs.stanford.edu/cs/cvgl/Stanford_Online_Products.zip \\\n",
        "  -O /tmp/Stanford_Online_Products.zip"
      ],
      "execution_count": 2,
      "outputs": [
        {
          "output_type": "stream",
          "name": "stdout",
          "text": [
            "--2021-09-29 23:16:55--  ftp://cs.stanford.edu/cs/cvgl/Stanford_Online_Products.zip\n",
            "           => ‘/tmp/Stanford_Online_Products.zip’\n",
            "Resolving cs.stanford.edu (cs.stanford.edu)... 171.64.64.64\n",
            "Connecting to cs.stanford.edu (cs.stanford.edu)|171.64.64.64|:21... connected.\n",
            "Logging in as anonymous ... Logged in!\n",
            "==> SYST ... done.    ==> PWD ... done.\n",
            "==> TYPE I ... done.  ==> CWD (1) /cs/cvgl ... done.\n",
            "==> SIZE Stanford_Online_Products.zip ... 3083860082\n",
            "==> PASV ... done.    ==> RETR Stanford_Online_Products.zip ... done.\n",
            "Length: 3083860082 (2.9G) (unauthoritative)\n",
            "\n",
            "Stanford_Online_Pro 100%[===================>]   2.87G  25.9MB/s    in 92s     \n",
            "\n",
            "2021-09-29 23:18:27 (32.1 MB/s) - ‘/tmp/Stanford_Online_Products.zip’ saved [3083860082]\n",
            "\n"
          ]
        }
      ]
    },
    {
      "cell_type": "code",
      "metadata": {
        "id": "IKBWFqI3gSIo"
      },
      "source": [
        "import zipfile, os\n",
        "\n",
        "file_zip = '/tmp/Stanford_Online_Products.zip'\n",
        "zip_ref = zipfile.ZipFile(file_zip, 'r')\n",
        "zip_ref.extractall('/content')\n",
        "zip_ref.close()\n",
        "\n",
        "base_dir = '/content/Stanford_Online_Products'"
      ],
      "execution_count": 3,
      "outputs": []
    },
    {
      "cell_type": "code",
      "metadata": {
        "colab": {
          "base_uri": "https://localhost:8080/"
        },
        "id": "Oug95eXbfmx-",
        "outputId": "9c0ef94f-982e-4f38-9581-36e203525e7b"
      },
      "source": [
        "os.listdir(base_dir)"
      ],
      "execution_count": 4,
      "outputs": [
        {
          "output_type": "execute_result",
          "data": {
            "text/plain": [
              "['Ebay_final.txt',\n",
              " 'kettle_final.txt',\n",
              " 'table_final',\n",
              " 'Ebay_info.txt',\n",
              " 'Ebay_train.txt',\n",
              " 'toaster_final.txt',\n",
              " 'sofa_final.txt',\n",
              " 'mug_final',\n",
              " 'table_final.txt',\n",
              " 'bicycle_final.txt',\n",
              " 'chair_final',\n",
              " 'Ebay_test.txt',\n",
              " 'README',\n",
              " 'LICENSE',\n",
              " 'bicycle_final',\n",
              " 'fan_final',\n",
              " 'chair_final.txt',\n",
              " 'mug_final.txt',\n",
              " 'coffee_maker_final.txt',\n",
              " 'cabinet_final.txt',\n",
              " 'lamp_final',\n",
              " 'toaster_final',\n",
              " 'sofa_final',\n",
              " 'lamp_final.txt',\n",
              " 'coffee_maker_final',\n",
              " 'kettle_final',\n",
              " 'cabinet_final',\n",
              " 'stapler_final',\n",
              " 'fan_final.txt',\n",
              " 'stapler_final.txt']"
            ]
          },
          "metadata": {},
          "execution_count": 4
        }
      ]
    },
    {
      "cell_type": "code",
      "metadata": {
        "id": "ZSRcLvkrxCIc"
      },
      "source": [
        "from tensorflow.keras.preprocessing.image import ImageDataGenerator\n",
        "\n",
        "train_datagen = ImageDataGenerator(\n",
        "                    rescale = 1./225,\n",
        "                    rotation_range = 20,\n",
        "                    horizontal_flip = True,\n",
        "                    shear_range = 0.2,\n",
        "                    zoom_range = 0.2,\n",
        "                    fill_mode = 'nearest',\n",
        "                    validation_split = 0.2\n",
        ")"
      ],
      "execution_count": 5,
      "outputs": []
    },
    {
      "cell_type": "code",
      "metadata": {
        "colab": {
          "base_uri": "https://localhost:8080/"
        },
        "id": "4yU6kxt1gTed",
        "outputId": "1699b987-7706-4ed0-801d-be445ba61231"
      },
      "source": [
        "# deklarasi variabel global ukuran gambar\n",
        "image_size = (224, 224)\n",
        "\n",
        "train_generator = train_datagen.flow_from_directory(\n",
        "        base_dir,\n",
        "        target_size = image_size,\n",
        "        classes=['lamp_final', 'mug_final', 'sofa_final'],\n",
        "        batch_size = 128,\n",
        "        class_mode = 'categorical',\n",
        "        subset='training'\n",
        ")\n",
        " \n",
        "val_generator = train_datagen.flow_from_directory(\n",
        "        base_dir,\n",
        "        target_size = image_size,\n",
        "        classes=['lamp_final', 'mug_final', 'sofa_final'],\n",
        "        batch_size = 64,\n",
        "        class_mode = 'categorical',\n",
        "        subset='validation'\n",
        ")"
      ],
      "execution_count": 6,
      "outputs": [
        {
          "output_type": "stream",
          "name": "stdout",
          "text": [
            "Found 26870 images belonging to 3 classes.\n",
            "Found 6717 images belonging to 3 classes.\n"
          ]
        }
      ]
    },
    {
      "cell_type": "code",
      "metadata": {
        "id": "Out1_f2O8iiV"
      },
      "source": [
        "# membuat class callback untuk stopping\n",
        "class myCallback(tf.keras.callbacks.Callback):\n",
        "   def on_epoch_end(self, epoch, logs={}):\n",
        "      if(logs.get('accuracy') >= 0.92 and logs.get('val_accuracy') >= 0.92):\n",
        "          print(\"\\nAkurasi telah mencapai >=92%!\")\n",
        "          self.model.stop_training = True\n",
        "\n",
        "callbacks = myCallback()"
      ],
      "execution_count": 7,
      "outputs": []
    },
    {
      "cell_type": "code",
      "metadata": {
        "id": "tuPjP3CVrhY6"
      },
      "source": [
        "model = tf.keras.models.Sequential()\n",
        "\n",
        "model.add(tf.keras.layers.Conv2D(filters = 32, kernel_size = (5,5),padding = 'Same',activation ='relu', input_shape = (224,224,3)))\n",
        "model.add(tf.keras.layers.MaxPooling2D(pool_size=(2,2)))\n",
        "model.add(tf.keras.layers.Dropout(0.2))\n",
        "\n",
        "model.add(tf.keras.layers.Conv2D(filters = 64, kernel_size = (3,3),padding = 'Same',activation ='relu'))\n",
        "model.add(tf.keras.layers.MaxPooling2D(pool_size=(2,2), strides=(2,2))) \n",
        "model.add(tf.keras.layers.Dropout(0.2))\n",
        "\n",
        "model.add(tf.keras.layers.Conv2D(filters =96, kernel_size = (3,3),padding = 'Same',activation ='relu'))\n",
        "model.add(tf.keras.layers.MaxPooling2D(pool_size=(2,2), strides=(2,2)))\n",
        "model.add(tf.keras.layers.Dropout(0.2))\n",
        "\n",
        "model.add(tf.keras.layers.Conv2D(filters = 96, kernel_size = (3,3),padding = 'Same',activation ='relu'))\n",
        "model.add(tf.keras.layers.MaxPooling2D(pool_size=(2,2), strides=(2,2)))\n",
        "model.add(tf.keras.layers.Dropout(0.2))\n",
        "\n",
        "model.add(tf.keras.layers.Flatten())\n",
        "model.add(tf.keras.layers.Dense(512))\n",
        "model.add(tf.keras.layers.Activation('relu'))\n",
        "model.add(tf.keras.layers.Dropout(0.4))\n",
        "model.add(tf.keras.layers.Dense(256))\n",
        "model.add(tf.keras.layers.Activation('relu'))\n",
        "model.add(tf.keras.layers.Dense(3, activation = \"softmax\"))"
      ],
      "execution_count": 8,
      "outputs": []
    },
    {
      "cell_type": "code",
      "metadata": {
        "id": "-vDCfKF7sioY"
      },
      "source": [
        "model.compile(\n",
        "    loss = 'categorical_crossentropy',\n",
        "    optimizer = tf.optimizers.Adam(),\n",
        "    metrics = ['accuracy']\n",
        ")"
      ],
      "execution_count": 9,
      "outputs": []
    },
    {
      "cell_type": "code",
      "metadata": {
        "colab": {
          "base_uri": "https://localhost:8080/"
        },
        "id": "rQQRe_z-uun0",
        "outputId": "9d2dff2f-54e4-4895-808c-080af593971a"
      },
      "source": [
        "# deklarasi variabel global epoch\n",
        "epochs = 500\n",
        "\n",
        "# membuat objek callback untuk early stopping dan reduksi learning rate\n",
        "reduce_lr = tf.keras.callbacks.ReduceLROnPlateau(monitor='val_loss', patience=15, verbose=2, min_lr=0.00001)\n",
        "\n",
        "# latih model dengan model.fit\n",
        "history = model.fit(train_generator,\n",
        "                    epochs = epochs, \n",
        "                    validation_data = val_generator,\n",
        "                    verbose = 2, \n",
        "                    steps_per_epoch = 25,\n",
        "                    callbacks=[callbacks, reduce_lr],\n",
        "                    validation_steps = 25)\n"
      ],
      "execution_count": null,
      "outputs": [
        {
          "output_type": "stream",
          "name": "stdout",
          "text": [
            "Epoch 1/500\n",
            "25/25 - 102s - loss: 1.4016 - accuracy: 0.3847 - val_loss: 1.0774 - val_accuracy: 0.3925\n",
            "Epoch 2/500\n",
            "25/25 - 65s - loss: 1.0416 - accuracy: 0.4047 - val_loss: 1.0281 - val_accuracy: 0.4544\n",
            "Epoch 3/500\n",
            "25/25 - 65s - loss: 1.0038 - accuracy: 0.4509 - val_loss: 1.0328 - val_accuracy: 0.4894\n",
            "Epoch 4/500\n",
            "25/25 - 65s - loss: 0.9666 - accuracy: 0.4994 - val_loss: 0.9693 - val_accuracy: 0.5106\n",
            "Epoch 5/500\n",
            "25/25 - 68s - loss: 0.9081 - accuracy: 0.5378 - val_loss: 0.9585 - val_accuracy: 0.5125\n",
            "Epoch 6/500\n",
            "25/25 - 66s - loss: 0.9218 - accuracy: 0.5391 - val_loss: 0.9036 - val_accuracy: 0.5838\n",
            "Epoch 7/500\n",
            "25/25 - 66s - loss: 0.8728 - accuracy: 0.5738 - val_loss: 0.8860 - val_accuracy: 0.5669\n",
            "Epoch 8/500\n",
            "25/25 - 66s - loss: 0.8417 - accuracy: 0.6041 - val_loss: 0.8527 - val_accuracy: 0.6069\n",
            "Epoch 9/500\n",
            "25/25 - 67s - loss: 0.8257 - accuracy: 0.6331 - val_loss: 0.8279 - val_accuracy: 0.6231\n",
            "Epoch 10/500\n",
            "25/25 - 67s - loss: 0.7946 - accuracy: 0.6447 - val_loss: 0.8060 - val_accuracy: 0.6275\n",
            "Epoch 11/500\n",
            "25/25 - 68s - loss: 0.7713 - accuracy: 0.6609 - val_loss: 0.7840 - val_accuracy: 0.6500\n",
            "Epoch 12/500\n",
            "25/25 - 70s - loss: 0.7571 - accuracy: 0.6766 - val_loss: 0.8838 - val_accuracy: 0.5806\n",
            "Epoch 13/500\n",
            "25/25 - 68s - loss: 0.7567 - accuracy: 0.6741 - val_loss: 0.7866 - val_accuracy: 0.6381\n",
            "Epoch 14/500\n",
            "25/25 - 69s - loss: 0.7565 - accuracy: 0.6787 - val_loss: 0.7900 - val_accuracy: 0.6325\n",
            "Epoch 15/500\n",
            "25/25 - 69s - loss: 0.7458 - accuracy: 0.6741 - val_loss: 0.7539 - val_accuracy: 0.6694\n",
            "Epoch 16/500\n",
            "25/25 - 72s - loss: 0.6943 - accuracy: 0.7097 - val_loss: 0.7942 - val_accuracy: 0.6506\n",
            "Epoch 17/500\n",
            "25/25 - 68s - loss: 0.6701 - accuracy: 0.7125 - val_loss: 0.7157 - val_accuracy: 0.6875\n",
            "Epoch 18/500\n",
            "25/25 - 68s - loss: 0.6568 - accuracy: 0.7216 - val_loss: 0.8296 - val_accuracy: 0.6544\n",
            "Epoch 19/500\n",
            "25/25 - 68s - loss: 0.6995 - accuracy: 0.7025 - val_loss: 0.7786 - val_accuracy: 0.6181\n",
            "Epoch 20/500\n",
            "25/25 - 65s - loss: 0.6844 - accuracy: 0.7066 - val_loss: 0.7361 - val_accuracy: 0.6737\n",
            "Epoch 21/500\n",
            "25/25 - 65s - loss: 0.6568 - accuracy: 0.7244 - val_loss: 0.7305 - val_accuracy: 0.6869\n",
            "Epoch 22/500\n",
            "25/25 - 64s - loss: 0.6348 - accuracy: 0.7356 - val_loss: 0.7700 - val_accuracy: 0.6612\n",
            "Epoch 23/500\n",
            "25/25 - 63s - loss: 0.6554 - accuracy: 0.7235 - val_loss: 0.8045 - val_accuracy: 0.6406\n",
            "Epoch 24/500\n",
            "25/25 - 64s - loss: 0.6346 - accuracy: 0.7276 - val_loss: 0.7181 - val_accuracy: 0.6938\n",
            "Epoch 25/500\n",
            "25/25 - 64s - loss: 0.6024 - accuracy: 0.7506 - val_loss: 0.7028 - val_accuracy: 0.7119\n",
            "Epoch 26/500\n",
            "25/25 - 65s - loss: 0.6135 - accuracy: 0.7394 - val_loss: 0.7133 - val_accuracy: 0.6919\n",
            "Epoch 27/500\n",
            "25/25 - 65s - loss: 0.6154 - accuracy: 0.7466 - val_loss: 0.6925 - val_accuracy: 0.7125\n",
            "Epoch 28/500\n",
            "25/25 - 62s - loss: 0.6128 - accuracy: 0.7487 - val_loss: 0.6711 - val_accuracy: 0.7063\n",
            "Epoch 29/500\n",
            "25/25 - 62s - loss: 0.5870 - accuracy: 0.7606 - val_loss: 0.7210 - val_accuracy: 0.6819\n",
            "Epoch 30/500\n",
            "25/25 - 61s - loss: 0.6014 - accuracy: 0.7476 - val_loss: 0.7066 - val_accuracy: 0.6975\n",
            "Epoch 31/500\n",
            "25/25 - 63s - loss: 0.6154 - accuracy: 0.7453 - val_loss: 0.6750 - val_accuracy: 0.7175\n",
            "Epoch 32/500\n",
            "25/25 - 64s - loss: 0.5677 - accuracy: 0.7678 - val_loss: 0.6850 - val_accuracy: 0.7188\n",
            "Epoch 33/500\n",
            "25/25 - 65s - loss: 0.5866 - accuracy: 0.7503 - val_loss: 0.6651 - val_accuracy: 0.7113\n",
            "Epoch 34/500\n",
            "25/25 - 66s - loss: 0.5685 - accuracy: 0.7578 - val_loss: 0.6400 - val_accuracy: 0.7362\n",
            "Epoch 35/500\n",
            "25/25 - 65s - loss: 0.5457 - accuracy: 0.7744 - val_loss: 0.6495 - val_accuracy: 0.7362\n",
            "Epoch 36/500\n",
            "25/25 - 65s - loss: 0.5695 - accuracy: 0.7634 - val_loss: 0.6797 - val_accuracy: 0.7075\n",
            "Epoch 37/500\n",
            "25/25 - 66s - loss: 0.5734 - accuracy: 0.7603 - val_loss: 0.6002 - val_accuracy: 0.7456\n",
            "Epoch 38/500\n",
            "25/25 - 65s - loss: 0.5542 - accuracy: 0.7653 - val_loss: 0.6114 - val_accuracy: 0.7375\n",
            "Epoch 39/500\n",
            "25/25 - 64s - loss: 0.5735 - accuracy: 0.7694 - val_loss: 0.6493 - val_accuracy: 0.7119\n",
            "Epoch 40/500\n",
            "25/25 - 64s - loss: 0.5236 - accuracy: 0.7788 - val_loss: 0.6378 - val_accuracy: 0.7281\n",
            "Epoch 41/500\n",
            "25/25 - 65s - loss: 0.5549 - accuracy: 0.7603 - val_loss: 0.6419 - val_accuracy: 0.7412\n",
            "Epoch 42/500\n",
            "25/25 - 66s - loss: 0.5583 - accuracy: 0.7694 - val_loss: 0.6391 - val_accuracy: 0.7369\n",
            "Epoch 43/500\n",
            "25/25 - 66s - loss: 0.5246 - accuracy: 0.7841 - val_loss: 0.5961 - val_accuracy: 0.7481\n",
            "Epoch 44/500\n",
            "25/25 - 65s - loss: 0.5251 - accuracy: 0.7831 - val_loss: 0.5708 - val_accuracy: 0.7631\n",
            "Epoch 45/500\n",
            "25/25 - 65s - loss: 0.5193 - accuracy: 0.7800 - val_loss: 0.6032 - val_accuracy: 0.7362\n",
            "Epoch 46/500\n",
            "25/25 - 65s - loss: 0.5289 - accuracy: 0.7809 - val_loss: 0.6287 - val_accuracy: 0.7294\n",
            "Epoch 47/500\n",
            "25/25 - 65s - loss: 0.5197 - accuracy: 0.7869 - val_loss: 0.5497 - val_accuracy: 0.7650\n",
            "Epoch 48/500\n",
            "25/25 - 65s - loss: 0.5237 - accuracy: 0.7894 - val_loss: 0.6166 - val_accuracy: 0.7456\n",
            "Epoch 49/500\n",
            "25/25 - 65s - loss: 0.5199 - accuracy: 0.7834 - val_loss: 0.5937 - val_accuracy: 0.7500\n",
            "Epoch 50/500\n",
            "25/25 - 65s - loss: 0.5230 - accuracy: 0.7803 - val_loss: 0.5605 - val_accuracy: 0.7731\n",
            "Epoch 51/500\n",
            "25/25 - 65s - loss: 0.5225 - accuracy: 0.7847 - val_loss: 0.5562 - val_accuracy: 0.7750\n",
            "Epoch 52/500\n",
            "25/25 - 65s - loss: 0.5465 - accuracy: 0.7719 - val_loss: 0.5837 - val_accuracy: 0.7563\n",
            "Epoch 53/500\n",
            "25/25 - 65s - loss: 0.5271 - accuracy: 0.7850 - val_loss: 0.5694 - val_accuracy: 0.7681\n",
            "Epoch 54/500\n",
            "25/25 - 64s - loss: 0.5102 - accuracy: 0.7884 - val_loss: 0.5915 - val_accuracy: 0.7588\n",
            "Epoch 55/500\n",
            "25/25 - 64s - loss: 0.5025 - accuracy: 0.7972 - val_loss: 0.5264 - val_accuracy: 0.7756\n",
            "Epoch 56/500\n",
            "25/25 - 64s - loss: 0.5013 - accuracy: 0.8022 - val_loss: 0.5861 - val_accuracy: 0.7594\n",
            "Epoch 57/500\n",
            "25/25 - 64s - loss: 0.5063 - accuracy: 0.7909 - val_loss: 0.5308 - val_accuracy: 0.7706\n",
            "Epoch 58/500\n",
            "25/25 - 64s - loss: 0.4541 - accuracy: 0.8181 - val_loss: 0.5110 - val_accuracy: 0.8000\n",
            "Epoch 59/500\n",
            "25/25 - 64s - loss: 0.4978 - accuracy: 0.7987 - val_loss: 0.5811 - val_accuracy: 0.7669\n",
            "Epoch 60/500\n",
            "25/25 - 64s - loss: 0.4882 - accuracy: 0.7941 - val_loss: 0.5706 - val_accuracy: 0.7631\n",
            "Epoch 61/500\n",
            "25/25 - 63s - loss: 0.4416 - accuracy: 0.8206 - val_loss: 0.6035 - val_accuracy: 0.7606\n",
            "Epoch 62/500\n",
            "25/25 - 63s - loss: 0.4822 - accuracy: 0.8125 - val_loss: 0.5001 - val_accuracy: 0.8050\n",
            "Epoch 63/500\n",
            "25/25 - 64s - loss: 0.4440 - accuracy: 0.8191 - val_loss: 0.4707 - val_accuracy: 0.8031\n",
            "Epoch 64/500\n",
            "25/25 - 63s - loss: 0.4698 - accuracy: 0.8103 - val_loss: 0.5255 - val_accuracy: 0.7862\n",
            "Epoch 65/500\n",
            "25/25 - 65s - loss: 0.4446 - accuracy: 0.8194 - val_loss: 0.4844 - val_accuracy: 0.8012\n",
            "Epoch 66/500\n",
            "25/25 - 63s - loss: 0.4619 - accuracy: 0.8125 - val_loss: 0.4863 - val_accuracy: 0.7950\n",
            "Epoch 67/500\n",
            "25/25 - 64s - loss: 0.4658 - accuracy: 0.8081 - val_loss: 0.4715 - val_accuracy: 0.8188\n",
            "Epoch 68/500\n",
            "25/25 - 64s - loss: 0.4567 - accuracy: 0.8206 - val_loss: 0.5235 - val_accuracy: 0.7925\n",
            "Epoch 69/500\n",
            "25/25 - 63s - loss: 0.4505 - accuracy: 0.8188 - val_loss: 0.5136 - val_accuracy: 0.7825\n",
            "Epoch 70/500\n",
            "25/25 - 65s - loss: 0.4659 - accuracy: 0.8144 - val_loss: 0.5191 - val_accuracy: 0.7856\n",
            "Epoch 71/500\n",
            "25/25 - 64s - loss: 0.4690 - accuracy: 0.8125 - val_loss: 0.5266 - val_accuracy: 0.7994\n",
            "Epoch 72/500\n",
            "25/25 - 64s - loss: 0.4841 - accuracy: 0.8047 - val_loss: 0.4937 - val_accuracy: 0.7881\n",
            "Epoch 73/500\n",
            "25/25 - 63s - loss: 0.4624 - accuracy: 0.8203 - val_loss: 0.4963 - val_accuracy: 0.7962\n",
            "Epoch 74/500\n",
            "25/25 - 64s - loss: 0.4399 - accuracy: 0.8245 - val_loss: 0.4753 - val_accuracy: 0.8012\n",
            "Epoch 75/500\n",
            "25/25 - 63s - loss: 0.4550 - accuracy: 0.8238 - val_loss: 0.6022 - val_accuracy: 0.7456\n",
            "Epoch 76/500\n",
            "25/25 - 63s - loss: 0.4186 - accuracy: 0.8322 - val_loss: 0.4647 - val_accuracy: 0.8138\n",
            "Epoch 77/500\n"
          ]
        }
      ]
    },
    {
      "cell_type": "code",
      "metadata": {
        "id": "MjdNldUXjjd5"
      },
      "source": [
        "import matplotlib.pyplot as plt\n",
        "\n",
        "plt.plot(history.history['accuracy'])\n",
        "plt.plot(history.history['val_accuracy'])\n",
        "plt.title('Accuracy Model')\n",
        "plt.ylabel('accuracy')\n",
        "plt.xlabel('epoch')\n",
        "plt.legend(['train', 'test'], loc='upper left')\n",
        "plt.show()"
      ],
      "execution_count": null,
      "outputs": []
    },
    {
      "cell_type": "code",
      "metadata": {
        "id": "vQ95azY1jqR4"
      },
      "source": [
        "plt.plot(history.history['loss'])\n",
        "plt.plot(history.history['val_loss'])\n",
        "plt.title('Loss Model')\n",
        "plt.ylabel('loss')\n",
        "plt.xlabel('epoch')\n",
        "plt.legend(['train', 'test'], loc='upper left')\n",
        "plt.show()"
      ],
      "execution_count": null,
      "outputs": []
    },
    {
      "cell_type": "code",
      "metadata": {
        "id": "3j6oYCNvmzyw"
      },
      "source": [
        "converter = tf.lite.TFLiteConverter.from_keras_model(model)\n",
        "tflite_model = converter.convert()"
      ],
      "execution_count": null,
      "outputs": []
    },
    {
      "cell_type": "code",
      "metadata": {
        "id": "qClxeZ7Fm0iX"
      },
      "source": [
        "with tf.io.gfile.GFile('model.tflite', 'wb') as f:\n",
        "  f.write(tflite_model)"
      ],
      "execution_count": null,
      "outputs": []
    }
  ]
}